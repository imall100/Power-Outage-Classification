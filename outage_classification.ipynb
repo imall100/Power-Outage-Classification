{
 "cells": [
  {
   "cell_type": "markdown",
   "metadata": {},
   "source": [
    "# Classification of Power Outage Causes\n",
    "\n",
    "\n",
    "### Introduction\n",
    "Whenever there is a power outage, one of the big questions is what caused it. Naturally we would like to know the cause of the power outage so we can improve our infustructure or prevent a similar outage from happening. What this model can't be used for, however, is identifying an outage's cause before it is repaired. Although this would be helpful, this can't be done since one of our main explanatory variables is the outage's duration.\n",
    "\n",
    "This will be a classification problem since we are trying to classify the type of power outage. We will use a K-nearest neighbor classifier with the target variable being power outage. For the evaluation metric we will use the accuracy score (proportion of predictions being correct). Our goal should be to predict the outage cause correctly as often as possible, so naturally we would use the proportion of outages correctly predicted as our evaluation metric.\n",
    "\n",
    "### Baseline Model\n",
    "For the baseline model we will use 11 explanatory variables in all. There are two nominal explanatory variables: POSTAL.CODE and CLIMATE.REGION. The rest of the variables are quantitative: OUTAGE.DURATION, TOTAL.CUSTOMERS, MONTH, PC.REALGSP.STATE, UTIL.CONTRI, AREAPCT_URBAN, ANOMOLY.LEVEL, and TOTAL.SALES.\n",
    "\n",
    "The baseline model has an accuracy rate of 0.5452. At first look this accuracy rate seems low. 46% of the time the model is incorrect? However, we have to assess the model relative to using nothing at all to see if it has any value. Considering the accuracy rate of randomly guessing is only 0.3368 our model presents a valuable improvement.\n",
    "\n",
    "### Final Model\n",
    "For the final model engineer three features. The first is a one-hot encoding of MONTH since it was being treated as quantitative in the baseline model, which doesn't make any sense. The next is a standardized version of ANOMOLY.LEVEL by CLIMATE.REGION. We would expect the anomoly level to vary by climate region, so standardizing it by each region should more accurately identify temperature anomolies. Finally, we see considerable skewness in outage duration. We should be able to get more accurate results if we apply a log transformation to this variable thereby applying less weight to the very high outage durations.\n",
    "\n",
    "This time the same K-nearest neighbor classifier model is used except the number of neighbors is optimized. The optimal number of neighbors of 48 was found using grid search with 5 folds.\n",
    "\n",
    "In addition, outage duration outliers are removed.\n",
    "\n",
    "This model had an accuracy rate of about 0.67, meaning it improved upon the baseline model.\n",
    "\n",
    "### Fairness Evaluation\n",
    "Finally the model is evaluated for its fairness in prediction between high and low income states. We wouldn't want the model to predict outage cause with different accuracy for high and low income states. Since our response variable is not a binary variable we can't use a parity measure like precision. We will use accuracy rate as the parity measure since it is the most relevant to what we are trying to accomplish and links this fairness evaluation to how we evaluated the performance of the model in the prior portions of this study. A permutation test will be performed\n",
    "\n",
    "From the results of the permutation test, there is not evidence to suggest that the model predicts unfairly between high and low income states."
   ]
  },
  {
   "cell_type": "markdown",
   "metadata": {},
   "source": [
    "# Code"
   ]
  },
  {
   "cell_type": "code",
   "execution_count": 4,
   "metadata": {},
   "outputs": [],
   "source": [
    "import matplotlib.pyplot as plt\n",
    "import numpy as np\n",
    "import os\n",
    "import pandas as pd\n",
    "import seaborn as sns\n",
    "from sklearn.linear_model import LinearRegression\n",
    "from sklearn.preprocessing import FunctionTransformer\n",
    "from sklearn.preprocessing import OneHotEncoder\n",
    "from sklearn.pipeline import Pipeline\n",
    "from sklearn.compose import ColumnTransformer\n",
    "from sklearn.model_selection import train_test_split\n",
    "from sklearn.metrics import r2_score\n",
    "from sklearn.neighbors import KNeighborsClassifier\n",
    "from sklearn.metrics import accuracy_score\n",
    "from sklearn.model_selection import GridSearchCV\n",
    "from sklearn.base import BaseEstimator, TransformerMixin\n",
    "\n",
    "\n",
    "\n",
    "%matplotlib inline\n",
    "%config InlineBackend.figure_format = 'retina'  # Higher resolution figures"
   ]
  },
  {
   "cell_type": "code",
   "execution_count": 5,
   "metadata": {},
   "outputs": [],
   "source": [
    "#importing data and putting it into the correct format\n",
    "data = pd.read_excel('outage.xlsx')\n",
    "\n",
    "data = data.drop(index=[0,1,2,3,5], axis=0)\n",
    "new_header = data.iloc[0]\n",
    "data = data[1:]\n",
    "data.columns = new_header\n",
    "data = data.drop(labels='variables', axis=1)\n",
    "data = data.reset_index()"
   ]
  },
  {
   "cell_type": "markdown",
   "metadata": {},
   "source": [
    "### Baseline Model"
   ]
  },
  {
   "cell_type": "markdown",
   "metadata": {},
   "source": [
    "In the baseline model I will attempt to classify the cause of power outages using just the base (non transformed) variables). All the variables selected, as listed in the following cell, seem like they would be the most closely related with the cause of the power outage. The data is cleaned before the model is made."
   ]
  },
  {
   "cell_type": "code",
   "execution_count": 81,
   "metadata": {
    "scrolled": true
   },
   "outputs": [],
   "source": [
    "subset = data[['CAUSE.CATEGORY', 'OUTAGE.DURATION','POSTAL.CODE', 'TOTAL.CUSTOMERS', 'MONTH', 'PC.REALGSP.STATE', 'UTIL.CONTRI', 'AREAPCT_URBAN', 'ANOMALY.LEVEL', 'CLIMATE.REGION','TOTAL.SALES']]"
   ]
  },
  {
   "cell_type": "code",
   "execution_count": 82,
   "metadata": {},
   "outputs": [
    {
     "data": {
      "text/html": [
       "<div>\n",
       "<style scoped>\n",
       "    .dataframe tbody tr th:only-of-type {\n",
       "        vertical-align: middle;\n",
       "    }\n",
       "\n",
       "    .dataframe tbody tr th {\n",
       "        vertical-align: top;\n",
       "    }\n",
       "\n",
       "    .dataframe thead th {\n",
       "        text-align: right;\n",
       "    }\n",
       "</style>\n",
       "<table border=\"1\" class=\"dataframe\">\n",
       "  <thead>\n",
       "    <tr style=\"text-align: right;\">\n",
       "      <th>4</th>\n",
       "      <th>CAUSE.CATEGORY</th>\n",
       "      <th>OUTAGE.DURATION</th>\n",
       "      <th>POSTAL.CODE</th>\n",
       "      <th>TOTAL.CUSTOMERS</th>\n",
       "      <th>MONTH</th>\n",
       "      <th>PC.REALGSP.STATE</th>\n",
       "      <th>UTIL.CONTRI</th>\n",
       "      <th>AREAPCT_URBAN</th>\n",
       "      <th>ANOMALY.LEVEL</th>\n",
       "      <th>CLIMATE.REGION</th>\n",
       "      <th>TOTAL.SALES</th>\n",
       "    </tr>\n",
       "  </thead>\n",
       "  <tbody>\n",
       "    <tr>\n",
       "      <th>0</th>\n",
       "      <td>severe weather</td>\n",
       "      <td>3060</td>\n",
       "      <td>MN</td>\n",
       "      <td>2595696</td>\n",
       "      <td>7</td>\n",
       "      <td>51268</td>\n",
       "      <td>1.75139</td>\n",
       "      <td>2.14</td>\n",
       "      <td>-0.3</td>\n",
       "      <td>East North Central</td>\n",
       "      <td>6562520</td>\n",
       "    </tr>\n",
       "    <tr>\n",
       "      <th>1</th>\n",
       "      <td>intentional attack</td>\n",
       "      <td>1</td>\n",
       "      <td>MN</td>\n",
       "      <td>2640737</td>\n",
       "      <td>5</td>\n",
       "      <td>53499</td>\n",
       "      <td>1.79</td>\n",
       "      <td>2.14</td>\n",
       "      <td>-0.1</td>\n",
       "      <td>East North Central</td>\n",
       "      <td>5284231</td>\n",
       "    </tr>\n",
       "    <tr>\n",
       "      <th>2</th>\n",
       "      <td>severe weather</td>\n",
       "      <td>3000</td>\n",
       "      <td>MN</td>\n",
       "      <td>2586905</td>\n",
       "      <td>10</td>\n",
       "      <td>50447</td>\n",
       "      <td>1.70627</td>\n",
       "      <td>2.14</td>\n",
       "      <td>-1.5</td>\n",
       "      <td>East North Central</td>\n",
       "      <td>5222116</td>\n",
       "    </tr>\n",
       "    <tr>\n",
       "      <th>3</th>\n",
       "      <td>severe weather</td>\n",
       "      <td>2550</td>\n",
       "      <td>MN</td>\n",
       "      <td>2606813</td>\n",
       "      <td>6</td>\n",
       "      <td>51598</td>\n",
       "      <td>1.93209</td>\n",
       "      <td>2.14</td>\n",
       "      <td>-0.1</td>\n",
       "      <td>East North Central</td>\n",
       "      <td>5787064</td>\n",
       "    </tr>\n",
       "    <tr>\n",
       "      <th>4</th>\n",
       "      <td>severe weather</td>\n",
       "      <td>1740</td>\n",
       "      <td>MN</td>\n",
       "      <td>2673531</td>\n",
       "      <td>7</td>\n",
       "      <td>54431</td>\n",
       "      <td>1.6687</td>\n",
       "      <td>2.14</td>\n",
       "      <td>1.2</td>\n",
       "      <td>East North Central</td>\n",
       "      <td>5970339</td>\n",
       "    </tr>\n",
       "    <tr>\n",
       "      <th>...</th>\n",
       "      <td>...</td>\n",
       "      <td>...</td>\n",
       "      <td>...</td>\n",
       "      <td>...</td>\n",
       "      <td>...</td>\n",
       "      <td>...</td>\n",
       "      <td>...</td>\n",
       "      <td>...</td>\n",
       "      <td>...</td>\n",
       "      <td>...</td>\n",
       "      <td>...</td>\n",
       "    </tr>\n",
       "    <tr>\n",
       "      <th>1529</th>\n",
       "      <td>public appeal</td>\n",
       "      <td>720</td>\n",
       "      <td>ND</td>\n",
       "      <td>394394</td>\n",
       "      <td>12</td>\n",
       "      <td>57012</td>\n",
       "      <td>2.39076</td>\n",
       "      <td>0.27</td>\n",
       "      <td>-0.9</td>\n",
       "      <td>West North Central</td>\n",
       "      <td>1313678</td>\n",
       "    </tr>\n",
       "    <tr>\n",
       "      <th>1530</th>\n",
       "      <td>fuel supply emergency</td>\n",
       "      <td>NaN</td>\n",
       "      <td>ND</td>\n",
       "      <td>366037</td>\n",
       "      <td>NaN</td>\n",
       "      <td>42913</td>\n",
       "      <td>3.65652</td>\n",
       "      <td>0.27</td>\n",
       "      <td>NaN</td>\n",
       "      <td>West North Central</td>\n",
       "      <td>NaN</td>\n",
       "    </tr>\n",
       "    <tr>\n",
       "      <th>1531</th>\n",
       "      <td>islanding</td>\n",
       "      <td>59</td>\n",
       "      <td>SD</td>\n",
       "      <td>436229</td>\n",
       "      <td>8</td>\n",
       "      <td>45230</td>\n",
       "      <td>1.66009</td>\n",
       "      <td>0.3</td>\n",
       "      <td>0.5</td>\n",
       "      <td>West North Central</td>\n",
       "      <td>924051</td>\n",
       "    </tr>\n",
       "    <tr>\n",
       "      <th>1532</th>\n",
       "      <td>islanding</td>\n",
       "      <td>181</td>\n",
       "      <td>SD</td>\n",
       "      <td>436229</td>\n",
       "      <td>8</td>\n",
       "      <td>45230</td>\n",
       "      <td>1.66009</td>\n",
       "      <td>0.3</td>\n",
       "      <td>0.5</td>\n",
       "      <td>West North Central</td>\n",
       "      <td>924051</td>\n",
       "    </tr>\n",
       "    <tr>\n",
       "      <th>1533</th>\n",
       "      <td>equipment failure</td>\n",
       "      <td>NaN</td>\n",
       "      <td>AK</td>\n",
       "      <td>273530</td>\n",
       "      <td>NaN</td>\n",
       "      <td>57401</td>\n",
       "      <td>2.00854</td>\n",
       "      <td>0.05</td>\n",
       "      <td>NaN</td>\n",
       "      <td>NaN</td>\n",
       "      <td>NaN</td>\n",
       "    </tr>\n",
       "  </tbody>\n",
       "</table>\n",
       "<p>1534 rows × 11 columns</p>\n",
       "</div>"
      ],
      "text/plain": [
       "4            CAUSE.CATEGORY OUTAGE.DURATION POSTAL.CODE TOTAL.CUSTOMERS MONTH  \\\n",
       "0            severe weather            3060          MN         2595696     7   \n",
       "1        intentional attack               1          MN         2640737     5   \n",
       "2            severe weather            3000          MN         2586905    10   \n",
       "3            severe weather            2550          MN         2606813     6   \n",
       "4            severe weather            1740          MN         2673531     7   \n",
       "...                     ...             ...         ...             ...   ...   \n",
       "1529          public appeal             720          ND          394394    12   \n",
       "1530  fuel supply emergency             NaN          ND          366037   NaN   \n",
       "1531              islanding              59          SD          436229     8   \n",
       "1532              islanding             181          SD          436229     8   \n",
       "1533      equipment failure             NaN          AK          273530   NaN   \n",
       "\n",
       "4    PC.REALGSP.STATE UTIL.CONTRI AREAPCT_URBAN ANOMALY.LEVEL  \\\n",
       "0               51268     1.75139          2.14          -0.3   \n",
       "1               53499        1.79          2.14          -0.1   \n",
       "2               50447     1.70627          2.14          -1.5   \n",
       "3               51598     1.93209          2.14          -0.1   \n",
       "4               54431      1.6687          2.14           1.2   \n",
       "...               ...         ...           ...           ...   \n",
       "1529            57012     2.39076          0.27          -0.9   \n",
       "1530            42913     3.65652          0.27           NaN   \n",
       "1531            45230     1.66009           0.3           0.5   \n",
       "1532            45230     1.66009           0.3           0.5   \n",
       "1533            57401     2.00854          0.05           NaN   \n",
       "\n",
       "4         CLIMATE.REGION TOTAL.SALES  \n",
       "0     East North Central     6562520  \n",
       "1     East North Central     5284231  \n",
       "2     East North Central     5222116  \n",
       "3     East North Central     5787064  \n",
       "4     East North Central     5970339  \n",
       "...                  ...         ...  \n",
       "1529  West North Central     1313678  \n",
       "1530  West North Central         NaN  \n",
       "1531  West North Central      924051  \n",
       "1532  West North Central      924051  \n",
       "1533                 NaN         NaN  \n",
       "\n",
       "[1534 rows x 11 columns]"
      ]
     },
     "execution_count": 82,
     "metadata": {},
     "output_type": "execute_result"
    }
   ],
   "source": [
    "subset"
   ]
  },
  {
   "cell_type": "code",
   "execution_count": 83,
   "metadata": {
    "scrolled": false
   },
   "outputs": [
    {
     "data": {
      "text/plain": [
       "1534"
      ]
     },
     "execution_count": 83,
     "metadata": {},
     "output_type": "execute_result"
    }
   ],
   "source": [
    "len(data)"
   ]
  },
  {
   "cell_type": "markdown",
   "metadata": {},
   "source": [
    "First let's take a look at how many null values are in our columns of interest"
   ]
  },
  {
   "cell_type": "code",
   "execution_count": 84,
   "metadata": {
    "scrolled": false
   },
   "outputs": [
    {
     "data": {
      "text/plain": [
       "4\n",
       "CAUSE.CATEGORY       0\n",
       "OUTAGE.DURATION     58\n",
       "POSTAL.CODE          0\n",
       "TOTAL.CUSTOMERS      0\n",
       "MONTH                9\n",
       "PC.REALGSP.STATE     0\n",
       "UTIL.CONTRI          0\n",
       "AREAPCT_URBAN        0\n",
       "ANOMALY.LEVEL        9\n",
       "CLIMATE.REGION       6\n",
       "TOTAL.SALES         22\n",
       "dtype: int64"
      ]
     },
     "execution_count": 84,
     "metadata": {},
     "output_type": "execute_result"
    }
   ],
   "source": [
    "subset.isnull().sum()"
   ]
  },
  {
   "cell_type": "markdown",
   "metadata": {},
   "source": [
    "We can first use probabilistic imputation to fill the null values in the numeric variables"
   ]
  },
  {
   "cell_type": "code",
   "execution_count": 85,
   "metadata": {},
   "outputs": [],
   "source": [
    "#filling null values of numeric variables with probabilistic imputation\n",
    "columns_with_nulls = ['OUTAGE.DURATION', 'ANOMALY.LEVEL', 'TOTAL.SALES']\n",
    "\n",
    "for col in columns_with_nulls:\n",
    "    num_null = subset[col].isnull().sum()\n",
    "    fills = subset[col].dropna().sample(num_null, replace = True)\n",
    "    fills.index = subset.loc[subset[col].isnull()].index\n",
    "    subset = subset.fillna({col:fills.to_dict()})\n",
    "\n"
   ]
  },
  {
   "cell_type": "markdown",
   "metadata": {},
   "source": [
    "The observations with null values in the categorical variables are just dropped"
   ]
  },
  {
   "cell_type": "code",
   "execution_count": 86,
   "metadata": {},
   "outputs": [],
   "source": [
    "#dropping rows with null values in categorical variables\n",
    "subset = subset.dropna()"
   ]
  },
  {
   "cell_type": "markdown",
   "metadata": {},
   "source": [
    "now check that there are no more null values"
   ]
  },
  {
   "cell_type": "code",
   "execution_count": 87,
   "metadata": {},
   "outputs": [
    {
     "data": {
      "text/plain": [
       "4\n",
       "CAUSE.CATEGORY      0\n",
       "OUTAGE.DURATION     0\n",
       "POSTAL.CODE         0\n",
       "TOTAL.CUSTOMERS     0\n",
       "MONTH               0\n",
       "PC.REALGSP.STATE    0\n",
       "UTIL.CONTRI         0\n",
       "AREAPCT_URBAN       0\n",
       "ANOMALY.LEVEL       0\n",
       "CLIMATE.REGION      0\n",
       "TOTAL.SALES         0\n",
       "dtype: int64"
      ]
     },
     "execution_count": 87,
     "metadata": {},
     "output_type": "execute_result"
    }
   ],
   "source": [
    "subset.isnull().sum()"
   ]
  },
  {
   "cell_type": "markdown",
   "metadata": {},
   "source": [
    "Now for the baseline model. We make a pipeline that applies one hot encoder to postal code and climate region then uses K nearest neighbors classifier "
   ]
  },
  {
   "cell_type": "code",
   "execution_count": 88,
   "metadata": {},
   "outputs": [],
   "source": [
    "ct = ColumnTransformer(\n",
    "    [\n",
    "        ('ohe', OneHotEncoder(handle_unknown = 'ignore'), ['POSTAL.CODE', 'CLIMATE.REGION']),\n",
    "    ])\n",
    "pl = Pipeline(steps = [\n",
    "            ('columntrans', ct),\n",
    "            ('knn',  KNeighborsClassifier(n_neighbors = 5))\n",
    "            ])"
   ]
  },
  {
   "cell_type": "markdown",
   "metadata": {},
   "source": [
    "Let's see how accurate the base model is using 400 train-test-split iterations"
   ]
  },
  {
   "cell_type": "code",
   "execution_count": 89,
   "metadata": {},
   "outputs": [],
   "source": [
    "#finding average average accuracy\n",
    "\n",
    "accuracies = []\n",
    "for i in range(400):\n",
    "    y = subset['CAUSE.CATEGORY']\n",
    "    x = subset.drop('CAUSE.CATEGORY', axis=1)\n",
    "    x_train, x_test, y_train, y_test = train_test_split(x, y)\n",
    "    pl.fit(x_train, y_train)\n",
    "    accuracies.append(accuracy_score(y_test, pl.predict(x_test)))"
   ]
  },
  {
   "cell_type": "markdown",
   "metadata": {},
   "source": [
    "This is the proportion of cause categories correctly classified"
   ]
  },
  {
   "cell_type": "code",
   "execution_count": 90,
   "metadata": {
    "scrolled": false
   },
   "outputs": [
    {
     "data": {
      "text/plain": [
       "0.5451644736842111"
      ]
     },
     "execution_count": 90,
     "metadata": {},
     "output_type": "execute_result"
    }
   ],
   "source": [
    "pd.Series(accuracies).mean()"
   ]
  },
  {
   "cell_type": "markdown",
   "metadata": {},
   "source": [
    "Is this good? Let's compare it to the accuracy from randomly guessing"
   ]
  },
  {
   "cell_type": "code",
   "execution_count": 91,
   "metadata": {},
   "outputs": [],
   "source": [
    "accuracies = []\n",
    "for i in range(400):\n",
    "    #The 0.25 is because train_test_split uses 0.25 of the data for testing as default\n",
    "    guesses = subset['CAUSE.CATEGORY'].sample(n = int(0.25*len(subset)), replace = True)\n",
    "    \n",
    "    y = subset['CAUSE.CATEGORY']\n",
    "    x = subset.drop('CAUSE.CATEGORY', axis=1)\n",
    "    x_train, x_test, y_train, y_test = train_test_split(x, y)\n",
    "    accuracies.append(accuracy_score(y_test, guesses))"
   ]
  },
  {
   "cell_type": "code",
   "execution_count": 92,
   "metadata": {
    "scrolled": true
   },
   "outputs": [
    {
     "data": {
      "text/plain": [
       "0.33684210526315794"
      ]
     },
     "execution_count": 92,
     "metadata": {},
     "output_type": "execute_result"
    }
   ],
   "source": [
    "pd.Series(accuracies).mean()"
   ]
  },
  {
   "cell_type": "markdown",
   "metadata": {},
   "source": [
    "looks like our base model is better than randomly guessing!"
   ]
  },
  {
   "cell_type": "markdown",
   "metadata": {},
   "source": [
    "### Final Model"
   ]
  },
  {
   "cell_type": "markdown",
   "metadata": {},
   "source": [
    "For the final model we will optimize our parameter, perform feature engineering, and remove outliers. We will compare the accuracy with the baseline model to see if we have made an improvement"
   ]
  },
  {
   "cell_type": "markdown",
   "metadata": {},
   "source": [
    "First, let's determine the optimal number of neighbors to classify on. In the baseline model we only used 5."
   ]
  },
  {
   "cell_type": "code",
   "execution_count": 93,
   "metadata": {},
   "outputs": [],
   "source": [
    "y = subset['CAUSE.CATEGORY']\n",
    "x = subset.drop('CAUSE.CATEGORY', axis=1)\n",
    "x_train, x_test, y_train, y_test = train_test_split(x, y)"
   ]
  },
  {
   "cell_type": "code",
   "execution_count": 94,
   "metadata": {},
   "outputs": [],
   "source": [
    "ct = ColumnTransformer(\n",
    "    [\n",
    "        ('ohe', OneHotEncoder(handle_unknown = 'ignore'), ['POSTAL.CODE', 'CLIMATE.REGION']),\n",
    "    ])\n",
    "pl = Pipeline(steps = [\n",
    "            ('columntrans', ct),\n",
    "            ('knn',  KNeighborsClassifier())\n",
    "            ])"
   ]
  },
  {
   "cell_type": "markdown",
   "metadata": {},
   "source": [
    "we will test values of n_neighbors from 1 to 50"
   ]
  },
  {
   "cell_type": "code",
   "execution_count": 95,
   "metadata": {},
   "outputs": [],
   "source": [
    "parameters = {\n",
    "    'knn__n_neighbors': [i for i in range(1,51)]\n",
    "}"
   ]
  },
  {
   "cell_type": "code",
   "execution_count": 96,
   "metadata": {
    "scrolled": true
   },
   "outputs": [],
   "source": [
    "clf = GridSearchCV(pl, parameters, cv = 5)"
   ]
  },
  {
   "cell_type": "code",
   "execution_count": 97,
   "metadata": {
    "scrolled": true
   },
   "outputs": [
    {
     "name": "stderr",
     "output_type": "stream",
     "text": [
      "C:\\Users\\ianma\\Downloads\\anaconda\\lib\\site-packages\\sklearn\\model_selection\\_search.py:841: DeprecationWarning: The default of the `iid` parameter will change from True to False in version 0.22 and will be removed in 0.24. This will change numeric results when test-set sizes are unequal.\n",
      "  DeprecationWarning)\n"
     ]
    },
    {
     "data": {
      "text/plain": [
       "GridSearchCV(cv=5, error_score='raise-deprecating',\n",
       "       estimator=Pipeline(memory=None,\n",
       "     steps=[('columntrans', ColumnTransformer(n_jobs=None, remainder='drop', sparse_threshold=0.3,\n",
       "         transformer_weights=None,\n",
       "         transformers=[('ohe', OneHotEncoder(categorical_features=None, categories=None,\n",
       "       dtype=<class 'numpy.float64'>, handle_unknown='ignore',\n",
       "       n_values=Non...ki',\n",
       "           metric_params=None, n_jobs=None, n_neighbors=5, p=2,\n",
       "           weights='uniform'))]),\n",
       "       fit_params=None, iid='warn', n_jobs=None,\n",
       "       param_grid={'knn__n_neighbors': [1, 2, 3, 4, 5, 6, 7, 8, 9, 10, 11, 12, 13, 14, 15, 16, 17, 18, 19, 20, 21, 22, 23, 24, 25, 26, 27, 28, 29, 30, 31, 32, 33, 34, 35, 36, 37, 38, 39, 40, 41, 42, 43, 44, 45, 46, 47, 48, 49, 50]},\n",
       "       pre_dispatch='2*n_jobs', refit=True, return_train_score='warn',\n",
       "       scoring=None, verbose=0)"
      ]
     },
     "execution_count": 97,
     "metadata": {},
     "output_type": "execute_result"
    }
   ],
   "source": [
    "clf.fit(x_train, y_train)"
   ]
  },
  {
   "cell_type": "markdown",
   "metadata": {},
   "source": [
    "Here we have the optimal number of neighbors"
   ]
  },
  {
   "cell_type": "code",
   "execution_count": 98,
   "metadata": {
    "scrolled": false
   },
   "outputs": [
    {
     "data": {
      "text/plain": [
       "48"
      ]
     },
     "execution_count": 98,
     "metadata": {},
     "output_type": "execute_result"
    }
   ],
   "source": [
    "best_n = clf.best_params_['knn__n_neighbors']\n",
    "best_n"
   ]
  },
  {
   "cell_type": "markdown",
   "metadata": {},
   "source": [
    "Now let's assess if their are any outliers in outage duration and remove them"
   ]
  },
  {
   "cell_type": "code",
   "execution_count": 99,
   "metadata": {
    "scrolled": true
   },
   "outputs": [
    {
     "data": {
      "text/plain": [
       "array([[<matplotlib.axes._subplots.AxesSubplot object at 0x000001D0A3D3D048>]],\n",
       "      dtype=object)"
      ]
     },
     "execution_count": 99,
     "metadata": {},
     "output_type": "execute_result"
    },
    {
     "data": {
      "image/png": "[encoded data removed]",
      "text/plain": [
       "<Figure size 432x288 with 1 Axes>"
      ]
     },
     "metadata": {
      "image/png": {
       "height": 263,
       "width": 383
      },
      "needs_background": "light"
     },
     "output_type": "display_data"
    }
   ],
   "source": [
    "#outliers\n",
    "subset.hist(column = 'OUTAGE.DURATION', bins = 30)"
   ]
  },
  {
   "cell_type": "code",
   "execution_count": 100,
   "metadata": {},
   "outputs": [
    {
     "data": {
      "text/plain": [
       "108653.0"
      ]
     },
     "execution_count": 100,
     "metadata": {},
     "output_type": "execute_result"
    }
   ],
   "source": [
    "max(subset['OUTAGE.DURATION'])"
   ]
  },
  {
   "cell_type": "code",
   "execution_count": 101,
   "metadata": {},
   "outputs": [
    {
     "data": {
      "text/plain": [
       "26"
      ]
     },
     "execution_count": 101,
     "metadata": {},
     "output_type": "execute_result"
    }
   ],
   "source": [
    "sum(subset['OUTAGE.DURATION']>20000)"
   ]
  },
  {
   "cell_type": "markdown",
   "metadata": {},
   "source": [
    "It looks like there are only 24 values with outage durations greater than 20000. We are not going to do a formal evaluation of outliers, as for our purposes it is satisfactory to just remove these 24 values. It can be seen in the histogram above that values above 20000 are certainly well above the norm."
   ]
  },
  {
   "cell_type": "code",
   "execution_count": 102,
   "metadata": {},
   "outputs": [],
   "source": [
    "subset = subset[(subset['OUTAGE.DURATION'] <= 20000)]"
   ]
  },
  {
   "cell_type": "code",
   "execution_count": 103,
   "metadata": {
    "scrolled": true
   },
   "outputs": [
    {
     "data": {
      "text/plain": [
       "array([[<matplotlib.axes._subplots.AxesSubplot object at 0x000001D0A3D38780>]],\n",
       "      dtype=object)"
      ]
     },
     "execution_count": 103,
     "metadata": {},
     "output_type": "execute_result"
    },
    {
     "data": {
      "image/png": "[encoded data removed]",
      "text/plain": [
       "<Figure size 432x288 with 1 Axes>"
      ]
     },
     "metadata": {
      "image/png": {
       "height": 263,
       "width": 377
      },
      "needs_background": "light"
     },
     "output_type": "display_data"
    }
   ],
   "source": [
    "subset.hist(column = 'OUTAGE.DURATION', bins = 30)"
   ]
  },
  {
   "cell_type": "markdown",
   "metadata": {},
   "source": [
    "The outage duration is still heavily skewed. We might be able to get more accurate results if we apply a log transformation to this variable thereby applying less weight to the very high outage durations."
   ]
  },
  {
   "cell_type": "markdown",
   "metadata": {},
   "source": [
    "Let's do a bit of feature engineering. We change month to a string and one hot encode it. Month was being treated as a numeric variable in the baseline model when it should probably be treated as categorical. Next, we apply a log transformation to outage duration. In addition, in predicting the cause of a power outage, it would be helpful to know the temperature anomoly level relative to the climate region, rather than in absolute terms. To do this we apply a standard scaler to the anomoly level within climate region groups. Before this can be done a standard scaler by group function is defined:"
   ]
  },
  {
   "cell_type": "code",
   "execution_count": 104,
   "metadata": {},
   "outputs": [],
   "source": [
    "\n",
    "\n",
    "class StdScalerByGroup(BaseEstimator, TransformerMixin):\n",
    "    \n",
    "    def __init__(self):\n",
    "        pass\n",
    "\n",
    "    def fit(self, X, y=None):\n",
    "        # X may not be a pandas dataframe (e.g. a np.array)\n",
    "        df = pd.DataFrame(X)\n",
    "        \n",
    "        # A dictionary of means/standard-deviations for each column, for each group.\n",
    "        \n",
    "        #use X.columns[0] since groups are always in first column\n",
    "        agg = df.groupby(X.columns[0]).agg(['mean', 'std'])\n",
    "\n",
    "        self.grps_ = agg.to_dict()\n",
    "\n",
    "        return self\n",
    "\n",
    "    def transform(self, X, y=None):\n",
    "\n",
    "        try:\n",
    "            getattr(self, \"grps_\")\n",
    "        except AttributeError:\n",
    "            raise RuntimeError(\"transformer must be fit before transforming data\")\n",
    "        \n",
    "        def z_helper(series):\n",
    "            group_name = series.name\n",
    "            series = series.set_index(series.columns[0])\n",
    "            def standardize(col):\n",
    "                mean = self.grps_[(col.name, 'mean')][group_name]\n",
    "                std = self.grps_[(col.name, 'std')][group_name]\n",
    "                standardized = (col - mean) / std\n",
    "                return standardized\n",
    "\n",
    "            return series.apply(standardize)\n",
    "            \n",
    "        \n",
    "        # X may not be a dataframe (e.g. np.array)\n",
    "\n",
    "        df = pd.DataFrame(X)\n",
    "        \n",
    "        return df.groupby(df.columns[0]).apply(z_helper)\n",
    "        "
   ]
  },
  {
   "cell_type": "markdown",
   "metadata": {},
   "source": [
    "Now we can create the pipeline"
   ]
  },
  {
   "cell_type": "code",
   "execution_count": 105,
   "metadata": {},
   "outputs": [],
   "source": [
    "def to_string(x):\n",
    "        return pd.DataFrame(x).astype(str)\n",
    "def log_transform(x):\n",
    "    return np.log(x + 1)\n",
    "num_to_str = FunctionTransformer(func = to_string, validate=False)\n",
    "log_trans = FunctionTransformer(func = log_transform, validate=False)\n",
    "\n",
    "month_trans = Pipeline(steps = [\n",
    "            ('to_string', num_to_str),\n",
    "            #added categories='auto' to silence warning message\n",
    "            #handle_unknown incase there are unseen values in the test set\n",
    "            ('ohe', OneHotEncoder(handle_unknown = 'ignore', categories='auto'))\n",
    "            ])\n",
    "\n",
    "ct = ColumnTransformer(\n",
    "    [\n",
    "        ('ohe', OneHotEncoder(handle_unknown = 'ignore', categories='auto'), ['POSTAL.CODE', 'CLIMATE.REGION']),\n",
    "        ('std', StdScalerByGroup(), ['CLIMATE.REGION','ANOMALY.LEVEL']),\n",
    "        ('month_trans', month_trans, ['MONTH']),\n",
    "        ('log_trans', log_trans, ['OUTAGE.DURATION'])\n",
    "    ])\n",
    "pl = Pipeline(steps = [\n",
    "            ('columntrans', ct),\n",
    "            ('knn',  KNeighborsClassifier(n_neighbors = best_n))\n",
    "            ])"
   ]
  },
  {
   "cell_type": "markdown",
   "metadata": {},
   "source": [
    "Let's check the average accuracy"
   ]
  },
  {
   "cell_type": "code",
   "execution_count": 106,
   "metadata": {},
   "outputs": [],
   "source": [
    "#finding average average accuracy\n",
    "\n",
    "accuracies = []\n",
    "for i in range(400):\n",
    "    y = subset['CAUSE.CATEGORY']\n",
    "    x = subset.drop('CAUSE.CATEGORY', axis=1)\n",
    "    x_train, x_test, y_train, y_test = train_test_split(x, y)\n",
    "    pl.fit(x_train, y_train)\n",
    "    accuracies.append(accuracy_score(y_test, pl.predict(x_test)))"
   ]
  },
  {
   "cell_type": "code",
   "execution_count": 107,
   "metadata": {
    "scrolled": true
   },
   "outputs": [
    {
     "data": {
      "text/plain": [
       "0.6718716577540101"
      ]
     },
     "execution_count": 107,
     "metadata": {},
     "output_type": "execute_result"
    }
   ],
   "source": [
    "pd.Series(accuracies).mean()"
   ]
  },
  {
   "cell_type": "markdown",
   "metadata": {},
   "source": [
    "it is, in fact, an improvement on the baseline model! "
   ]
  },
  {
   "cell_type": "markdown",
   "metadata": {},
   "source": [
    "### Fairness Evaluation"
   ]
  },
  {
   "cell_type": "markdown",
   "metadata": {},
   "source": [
    "For the fairness evaluation we will see if predictions are equally accurate for high and low income states. We will define the cutoff for a high income state as simply the median real per capita GSP in the dataset. Note that this measure varies over time, meaning that there are more than 50 unique values for this variable. This means that a state could be considered low income in one year and high income in another. "
   ]
  },
  {
   "cell_type": "code",
   "execution_count": 108,
   "metadata": {},
   "outputs": [],
   "source": [
    "income_cutoff = subset['PC.REALGSP.STATE'].median()"
   ]
  },
  {
   "cell_type": "code",
   "execution_count": 109,
   "metadata": {},
   "outputs": [],
   "source": [
    "#create boolean variable\n",
    "subset['low_income'] = subset['PC.REALGSP.STATE'] < income_cutoff"
   ]
  },
  {
   "cell_type": "markdown",
   "metadata": {},
   "source": [
    "We can define a function that will give us the average accuracy over 10 train-test-split iterations. 10 is a bit low but this function will be iterated over later so we can't have it take too long."
   ]
  },
  {
   "cell_type": "code",
   "execution_count": 110,
   "metadata": {},
   "outputs": [],
   "source": [
    "def get_accuracy(df):\n",
    "    accuracies = []\n",
    "    for i in range(10):\n",
    "        y = subset['CAUSE.CATEGORY']\n",
    "        x = subset.drop('CAUSE.CATEGORY', axis=1)\n",
    "        x_train, x_test, y_train, y_test = train_test_split(x, y)\n",
    "        pl.fit(x_train, y_train)\n",
    "        accuracies.append(accuracy_score(y_test, pl.predict(x_test)))\n",
    "    return pd.Series(accuracies).mean()"
   ]
  },
  {
   "cell_type": "markdown",
   "metadata": {},
   "source": [
    "First let's see what the observed difference in accuracy is between high and low income states"
   ]
  },
  {
   "cell_type": "code",
   "execution_count": 111,
   "metadata": {},
   "outputs": [],
   "source": [
    "high_income = subset[subset['PC.REALGSP.STATE'] >= income_cutoff]\n",
    "low_income = subset[subset['PC.REALGSP.STATE'] < income_cutoff]\n",
    "\n",
    "#calculate observed statistic\n",
    "#it will be the difference bewteen the stat for the high income and low income\n",
    "\n",
    "observed_stat = get_accuracy(high_income) - get_accuracy(low_income)"
   ]
  },
  {
   "cell_type": "code",
   "execution_count": 112,
   "metadata": {},
   "outputs": [
    {
     "data": {
      "text/plain": [
       "-0.0149732620320856"
      ]
     },
     "execution_count": 112,
     "metadata": {},
     "output_type": "execute_result"
    }
   ],
   "source": [
    "observed_stat"
   ]
  },
  {
   "cell_type": "markdown",
   "metadata": {},
   "source": [
    "This is pretty close to 0, but is it significantly different from 0? Let's run a permutation test to answer this question. We will shuffle the PC.REALGSP.STATE variable 100 times and record the differences in accuracy between high and low income states. \n",
    "\n",
    "Our null hypothesis will be that accuracy is the same for high and low income states, the alternative hypothesis being that accuracy is different for high and low income states. We will set the significance level as 0.05."
   ]
  },
  {
   "cell_type": "code",
   "execution_count": 115,
   "metadata": {},
   "outputs": [],
   "source": [
    "gen_stats = []\n",
    "for i in range(100):  \n",
    "    #shuffle column of interest\n",
    "    shuffled_col = (\n",
    "        subset['PC.REALGSP.STATE']\n",
    "        .sample(replace = False, frac=1)\n",
    "        .reset_index(drop=True)\n",
    "    )\n",
    "\n",
    "    #assign shuffled column to original dataframe\n",
    "    shuffled_df = (\n",
    "        subset.assign(**{\n",
    "            'PC.REALGSP.STATE':shuffled_col,\n",
    "        })\n",
    "    )\n",
    "    #calculate statistic\n",
    "    high_income = shuffled_df[shuffled_df['PC.REALGSP.STATE'] >= income_cutoff]\n",
    "    low_income = shuffled_df[shuffled_df['PC.REALGSP.STATE'] < income_cutoff]\n",
    "    \n",
    "    gen_stats.append(get_accuracy(high_income) - get_accuracy(low_income))"
   ]
  },
  {
   "cell_type": "code",
   "execution_count": 116,
   "metadata": {
    "scrolled": true
   },
   "outputs": [
    {
     "name": "stdout",
     "output_type": "stream",
     "text": [
      "p value = 0.08\n"
     ]
    },
    {
     "data": {
      "image/png": "[encoded data removed]",
      "text/plain": [
       "<Figure size 432x288 with 1 Axes>"
      ]
     },
     "metadata": {
      "image/png": {
       "height": 277,
       "width": 388
      },
      "needs_background": "light"
     },
     "output_type": "display_data"
    }
   ],
   "source": [
    "pd.Series(gen_stats).plot(kind='hist', density=True, alpha = 0.8, bins=20)\n",
    "plt.xlabel(\"generated accuracy differences\")\n",
    "plt.title(\"observed accuracy difference relative to those generated\")\n",
    "plt.axvline(x=observed_stat, color='red')\n",
    "\n",
    "print('p value = ' + str(np.mean(pd.Series(gen_stats) <= observed_stat)))"
   ]
  },
  {
   "cell_type": "markdown",
   "metadata": {},
   "source": [
    "Since the p-value is greater than our significance level we fail to reject the null hypthesis that accuracy is different for high and low income states. There is not evidence to suggest unfairness for high and low income states. "
   ]
  }
 ],
 "metadata": {
  "kernelspec": {
   "display_name": "Python 3",
   "language": "python",
   "name": "python3"
  },
  "language_info": {
   "codemirror_mode": {
    "name": "ipython",
    "version": 3
   },
   "file_extension": ".py",
   "mimetype": "text/x-python",
   "name": "python",
   "nbconvert_exporter": "python",
   "pygments_lexer": "ipython3",
   "version": "3.7.3"
  }
 },
 "nbformat": 4,
 "nbformat_minor": 2
}
