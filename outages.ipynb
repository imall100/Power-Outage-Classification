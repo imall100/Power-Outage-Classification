{
 "cells": [
  {
   "cell_type": "markdown",
   "metadata": {},
   "source": [
    "# Power Outages\n",
    "* **See the main project notebook for instructions to be sure you satisfy the rubric!**\n",
    "* See Project 03 for information on the dataset.\n",
    "* A few example prediction questions to pursue are listed below. However, don't limit yourself to them!\n",
    "    * Predict the severity (number of customers, duration, or demand loss) of a major power outage.\n",
    "    * Predict the cause of a major power outage.\n",
    "    * Predict the number and/or severity of major power outages in the year 2020.\n",
    "    * Predict the electricity consumption of an area.\n",
    "\n",
    "Be careful to justify what information you would know at the \"time of prediction\" and train your model using only those features."
   ]
  },
  {
   "cell_type": "markdown",
   "metadata": {},
   "source": [
    "# Summary of Findings\n",
    "\n",
    "\n",
    "### Introduction\n",
    "I think we should try to predict outage duration\n",
    "\n",
    "### Baseline Model\n",
    "TODO\n",
    "\n",
    "### Final Model\n",
    "TODO\n",
    "\n",
    "### Fairness Evaluation\n",
    "TODO"
   ]
  },
  {
   "cell_type": "markdown",
   "metadata": {},
   "source": [
    "# Code"
   ]
  },
  {
   "cell_type": "code",
   "execution_count": 1,
   "metadata": {},
   "outputs": [],
   "source": [
    "import matplotlib.pyplot as plt\n",
    "import numpy as np\n",
    "import os\n",
    "import pandas as pd\n",
    "import seaborn as sns\n",
    "from sklearn.linear_model import LinearRegression\n",
    "from sklearn.preprocessing import FunctionTransformer\n",
    "from sklearn.preprocessing import OneHotEncoder\n",
    "from sklearn.pipeline import Pipeline\n",
    "from sklearn.compose import ColumnTransformer\n",
    "from sklearn.model_selection import train_test_split\n",
    "from sklearn.metrics import r2_score\n",
    "from sklearn.neighbors import KNeighborsClassifier\n",
    "from sklearn.metrics import accuracy_score\n",
    "from sklearn.model_selection import GridSearchCV\n",
    "from sklearn.base import BaseEstimator, TransformerMixin\n",
    "\n",
    "\n",
    "\n",
    "%matplotlib inline\n",
    "%config InlineBackend.figure_format = 'retina'  # Higher resolution figures"
   ]
  },
  {
   "cell_type": "code",
   "execution_count": 47,
   "metadata": {},
   "outputs": [],
   "source": [
    "#importing data and putting it into the correct format\n",
    "data = pd.read_excel('outage.xlsx')\n",
    "\n",
    "data = data.drop(index=[0,1,2,3,5], axis=0)\n",
    "new_header = data.iloc[0]\n",
    "data = data[1:]\n",
    "data.columns = new_header\n",
    "data = data.drop(labels='variables', axis=1)\n",
    "data = data.reset_index()"
   ]
  },
  {
   "cell_type": "markdown",
   "metadata": {},
   "source": [
    "### Baseline Model"
   ]
  },
  {
   "cell_type": "markdown",
   "metadata": {},
   "source": [
    "In the baseline model I will attempt to classify the cause of power outages using just the base (non transformed) variables). All the variables selected, as listed in the following cell, seem like they would be the most closely related with the cause of the power outage. The data is cleaned before the model is made."
   ]
  },
  {
   "cell_type": "code",
   "execution_count": 48,
   "metadata": {
    "scrolled": true
   },
   "outputs": [],
   "source": [
    "subset = data[['CAUSE.CATEGORY', 'OUTAGE.DURATION','POSTAL.CODE', 'TOTAL.CUSTOMERS', 'MONTH', 'PC.REALGSP.STATE', 'UTIL.CONTRI', 'AREAPCT_URBAN', 'ANOMALY.LEVEL', 'CLIMATE.REGION','TOTAL.SALES']]"
   ]
  },
  {
   "cell_type": "code",
   "execution_count": 4,
   "metadata": {
    "scrolled": false
   },
   "outputs": [
    {
     "data": {
      "text/plain": [
       "1534"
      ]
     },
     "execution_count": 4,
     "metadata": {},
     "output_type": "execute_result"
    }
   ],
   "source": [
    "len(data)"
   ]
  },
  {
   "cell_type": "markdown",
   "metadata": {},
   "source": [
    "First let's take a look at how many null values are in our columns of interest"
   ]
  },
  {
   "cell_type": "code",
   "execution_count": 5,
   "metadata": {
    "scrolled": false
   },
   "outputs": [
    {
     "data": {
      "text/plain": [
       "4\n",
       "CAUSE.CATEGORY       0\n",
       "OUTAGE.DURATION     58\n",
       "POSTAL.CODE          0\n",
       "TOTAL.CUSTOMERS      0\n",
       "MONTH                9\n",
       "PC.REALGSP.STATE     0\n",
       "UTIL.CONTRI          0\n",
       "AREAPCT_URBAN        0\n",
       "ANOMALY.LEVEL        9\n",
       "CLIMATE.REGION       6\n",
       "TOTAL.SALES         22\n",
       "dtype: int64"
      ]
     },
     "execution_count": 5,
     "metadata": {},
     "output_type": "execute_result"
    }
   ],
   "source": [
    "subset.isnull().sum()"
   ]
  },
  {
   "cell_type": "code",
   "execution_count": null,
   "metadata": {},
   "outputs": [],
   "source": [
    "We can first use probabilistic imputation to fill the null values in the numeric variables"
   ]
  },
  {
   "cell_type": "code",
   "execution_count": 49,
   "metadata": {},
   "outputs": [],
   "source": [
    "#filling null values of numeric variables with probabilistic imputation\n",
    "columns_with_nulls = ['OUTAGE.DURATION', 'ANOMALY.LEVEL', 'TOTAL.SALES']\n",
    "\n",
    "for col in columns_with_nulls:\n",
    "    num_null = subset[col].isnull().sum()\n",
    "    fills = subset[col].dropna().sample(num_null, replace = True)\n",
    "    fills.index = subset.loc[subset[col].isnull()].index\n",
    "    subset = subset.fillna({col:fills.to_dict()})\n",
    "\n"
   ]
  },
  {
   "cell_type": "markdown",
   "metadata": {},
   "source": [
    "The observations with null values in the categorical variables are just dropped"
   ]
  },
  {
   "cell_type": "code",
   "execution_count": 50,
   "metadata": {},
   "outputs": [],
   "source": [
    "#dropping rows with null values in categorical variables\n",
    "subset = subset.dropna()"
   ]
  },
  {
   "cell_type": "markdown",
   "metadata": {},
   "source": [
    "Pipeline that applies one hot encoder to postal code and climate region. Then uses K nearest neighbors classifier "
   ]
  },
  {
   "cell_type": "code",
   "execution_count": 51,
   "metadata": {},
   "outputs": [],
   "source": [
    "ct = ColumnTransformer(\n",
    "    [\n",
    "        ('ohe', OneHotEncoder(handle_unknown = 'ignore'), ['POSTAL.CODE', 'CLIMATE.REGION']),\n",
    "    ])\n",
    "pl = Pipeline(steps = [\n",
    "            ('columntrans', ct),\n",
    "            ('knn',  KNeighborsClassifier(n_neighbors = 5))\n",
    "            ])"
   ]
  },
  {
   "cell_type": "markdown",
   "metadata": {},
   "source": [
    "Let's see how accurate the base model is using 400 train-test-split iterations"
   ]
  },
  {
   "cell_type": "code",
   "execution_count": 54,
   "metadata": {},
   "outputs": [],
   "source": [
    "#finding average average accuracy\n",
    "\n",
    "accuracies = []\n",
    "for i in range(400):\n",
    "    y = subset['CAUSE.CATEGORY']\n",
    "    x = subset.drop('CAUSE.CATEGORY', axis=1)\n",
    "    x_train, x_test, y_train, y_test = train_test_split(x, y)\n",
    "    pl.fit(x_train, y_train)\n",
    "    accuracies.append(accuracy_score(y_test, pl.predict(x_test)))"
   ]
  },
  {
   "cell_type": "markdown",
   "metadata": {},
   "source": [
    "This is the proportion of cause categories correctly classified"
   ]
  },
  {
   "cell_type": "code",
   "execution_count": 55,
   "metadata": {
    "scrolled": false
   },
   "outputs": [
    {
     "data": {
      "text/plain": [
       "0.540921052631579"
      ]
     },
     "execution_count": 55,
     "metadata": {},
     "output_type": "execute_result"
    }
   ],
   "source": [
    "pd.Series(accuracies).mean()"
   ]
  },
  {
   "cell_type": "markdown",
   "metadata": {},
   "source": [
    "Is this good? Let's compare it to the accuracy from randomly guessing"
   ]
  },
  {
   "cell_type": "code",
   "execution_count": 52,
   "metadata": {},
   "outputs": [],
   "source": [
    "accuracies = []\n",
    "for i in range(400):\n",
    "    #The 0.25 is because train_test_split uses 0.25 of the data for testing as default\n",
    "    guesses = subset['CAUSE.CATEGORY'].sample(n = int(0.25*len(subset)), replace = True)\n",
    "    \n",
    "    y = subset['CAUSE.CATEGORY']\n",
    "    x = subset.drop('CAUSE.CATEGORY', axis=1)\n",
    "    x_train, x_test, y_train, y_test = train_test_split(x, y)\n",
    "    accuracies.append(accuracy_score(y_test, guesses))"
   ]
  },
  {
   "cell_type": "code",
   "execution_count": 53,
   "metadata": {
    "scrolled": true
   },
   "outputs": [
    {
     "data": {
      "text/plain": [
       "0.3344934210526317"
      ]
     },
     "execution_count": 53,
     "metadata": {},
     "output_type": "execute_result"
    }
   ],
   "source": [
    "pd.Series(accuracies).mean()"
   ]
  },
  {
   "cell_type": "markdown",
   "metadata": {},
   "source": [
    "looks like our base model is better than randomly guessing!"
   ]
  },
  {
   "cell_type": "markdown",
   "metadata": {},
   "source": [
    "### Final Model"
   ]
  },
  {
   "cell_type": "markdown",
   "metadata": {},
   "source": [
    "First, let's determine the optimal number of neighbors to classify on. In the baseline model we only used 5."
   ]
  },
  {
   "cell_type": "code",
   "execution_count": 11,
   "metadata": {},
   "outputs": [],
   "source": [
    "y = subset['CAUSE.CATEGORY']\n",
    "x = subset.drop('CAUSE.CATEGORY', axis=1)\n",
    "x_train, x_test, y_train, y_test = train_test_split(x, y)"
   ]
  },
  {
   "cell_type": "code",
   "execution_count": 12,
   "metadata": {},
   "outputs": [],
   "source": [
    "parameters = {\n",
    "    'knn__n_neighbors': [i for i in range(1,51)]\n",
    "}"
   ]
  },
  {
   "cell_type": "code",
   "execution_count": 13,
   "metadata": {},
   "outputs": [],
   "source": [
    "ct = ColumnTransformer(\n",
    "    [\n",
    "        ('ohe', OneHotEncoder(handle_unknown = 'ignore'), ['POSTAL.CODE', 'CLIMATE.REGION']),\n",
    "    ])\n",
    "pl = Pipeline(steps = [\n",
    "            ('columntrans', ct),\n",
    "            ('knn',  KNeighborsClassifier())\n",
    "            ])"
   ]
  },
  {
   "cell_type": "code",
   "execution_count": 14,
   "metadata": {
    "scrolled": true
   },
   "outputs": [],
   "source": [
    "clf = GridSearchCV(pl, parameters, cv = 5)"
   ]
  },
  {
   "cell_type": "code",
   "execution_count": 15,
   "metadata": {},
   "outputs": [
    {
     "name": "stderr",
     "output_type": "stream",
     "text": [
      "C:\\Users\\ianma\\Downloads\\anaconda\\lib\\site-packages\\sklearn\\model_selection\\_search.py:841: DeprecationWarning: The default of the `iid` parameter will change from True to False in version 0.22 and will be removed in 0.24. This will change numeric results when test-set sizes are unequal.\n",
      "  DeprecationWarning)\n"
     ]
    },
    {
     "data": {
      "text/plain": [
       "GridSearchCV(cv=5, error_score='raise-deprecating',\n",
       "       estimator=Pipeline(memory=None,\n",
       "     steps=[('columntrans', ColumnTransformer(n_jobs=None, remainder='drop', sparse_threshold=0.3,\n",
       "         transformer_weights=None,\n",
       "         transformers=[('ohe', OneHotEncoder(categorical_features=None, categories=None,\n",
       "       dtype=<class 'numpy.float64'>, handle_unknown='ignore',\n",
       "       n_values=Non...ki',\n",
       "           metric_params=None, n_jobs=None, n_neighbors=5, p=2,\n",
       "           weights='uniform'))]),\n",
       "       fit_params=None, iid='warn', n_jobs=None,\n",
       "       param_grid={'knn__n_neighbors': [1, 2, 3, 4, 5, 6, 7, 8, 9, 10, 11, 12, 13, 14, 15, 16, 17, 18, 19, 20, 21, 22, 23, 24, 25, 26, 27, 28, 29, 30, 31, 32, 33, 34, 35, 36, 37, 38, 39, 40, 41, 42, 43, 44, 45, 46, 47, 48, 49, 50]},\n",
       "       pre_dispatch='2*n_jobs', refit=True, return_train_score='warn',\n",
       "       scoring=None, verbose=0)"
      ]
     },
     "execution_count": 15,
     "metadata": {},
     "output_type": "execute_result"
    }
   ],
   "source": [
    "clf.fit(x_train, y_train)"
   ]
  },
  {
   "cell_type": "code",
   "execution_count": 16,
   "metadata": {
    "scrolled": false
   },
   "outputs": [],
   "source": [
    "best_k = clf.best_params_['knn__n_neighbors']"
   ]
  },
  {
   "cell_type": "code",
   "execution_count": 17,
   "metadata": {},
   "outputs": [
    {
     "data": {
      "text/plain": [
       "25"
      ]
     },
     "execution_count": 17,
     "metadata": {},
     "output_type": "execute_result"
    }
   ],
   "source": [
    "best_k"
   ]
  },
  {
   "cell_type": "code",
   "execution_count": 60,
   "metadata": {
    "scrolled": true
   },
   "outputs": [
    {
     "data": {
      "text/plain": [
       "array([[<matplotlib.axes._subplots.AxesSubplot object at 0x0000024CC2ED9BA8>]],\n",
       "      dtype=object)"
      ]
     },
     "execution_count": 60,
     "metadata": {},
     "output_type": "execute_result"
    },
    {
     "data": {
      "image/png": "[encoded data removed]",
      "text/plain": [
       "<Figure size 432x288 with 1 Axes>"
      ]
     },
     "metadata": {
      "image/png": {
       "height": 263,
       "width": 383
      },
      "needs_background": "light"
     },
     "output_type": "display_data"
    }
   ],
   "source": [
    "#outliers\n",
    "subset.hist(column = 'OUTAGE.DURATION', bins = 30)"
   ]
  },
  {
   "cell_type": "code",
   "execution_count": 61,
   "metadata": {},
   "outputs": [
    {
     "data": {
      "text/plain": [
       "108653.0"
      ]
     },
     "execution_count": 61,
     "metadata": {},
     "output_type": "execute_result"
    }
   ],
   "source": [
    "max(subset['OUTAGE.DURATION'])"
   ]
  },
  {
   "cell_type": "code",
   "execution_count": 62,
   "metadata": {},
   "outputs": [
    {
     "data": {
      "text/plain": [
       "30"
      ]
     },
     "execution_count": 62,
     "metadata": {},
     "output_type": "execute_result"
    }
   ],
   "source": [
    "sum(subset['OUTAGE.DURATION']>20000)"
   ]
  },
  {
   "cell_type": "code",
   "execution_count": 18,
   "metadata": {},
   "outputs": [],
   "source": [
    "subset = subset[(subset['OUTAGE.DURATION'] <= 20000)]"
   ]
  },
  {
   "cell_type": "code",
   "execution_count": 64,
   "metadata": {},
   "outputs": [
    {
     "data": {
      "text/plain": [
       "array([[<matplotlib.axes._subplots.AxesSubplot object at 0x0000024CC2EE3D68>]],\n",
       "      dtype=object)"
      ]
     },
     "execution_count": 64,
     "metadata": {},
     "output_type": "execute_result"
    },
    {
     "data": {
      "image/png": "[encoded data removed]",
      "text/plain": [
       "<Figure size 432x288 with 1 Axes>"
      ]
     },
     "metadata": {
      "image/png": {
       "height": 263,
       "width": 377
      },
      "needs_background": "light"
     },
     "output_type": "display_data"
    }
   ],
   "source": [
    "subset.hist(column = 'OUTAGE.DURATION', bins = 30)"
   ]
  },
  {
   "cell_type": "code",
   "execution_count": null,
   "metadata": {},
   "outputs": [],
   "source": [
    "#scale anomoly level by climate region\n",
    "#month is nominal so we should change that to string and do OHE\n",
    "#maybe remove outliers"
   ]
  },
  {
   "cell_type": "code",
   "execution_count": 19,
   "metadata": {},
   "outputs": [],
   "source": [
    "\n",
    "\n",
    "class StdScalerByGroup(BaseEstimator, TransformerMixin):\n",
    "    \n",
    "    def __init__(self):\n",
    "        pass\n",
    "\n",
    "    def fit(self, X, y=None):\n",
    "        # X may not be a pandas dataframe (e.g. a np.array)\n",
    "        df = pd.DataFrame(X)\n",
    "        \n",
    "        # A dictionary of means/standard-deviations for each column, for each group.\n",
    "        \n",
    "        #use X.columns[0] since groups are always in first column\n",
    "        agg = df.groupby(X.columns[0]).agg(['mean', 'std'])\n",
    "\n",
    "        self.grps_ = agg.to_dict()\n",
    "\n",
    "        return self\n",
    "\n",
    "    def transform(self, X, y=None):\n",
    "\n",
    "        try:\n",
    "            getattr(self, \"grps_\")\n",
    "        except AttributeError:\n",
    "            raise RuntimeError(\"You must fit the transformer before tranforming the data!\")\n",
    "        \n",
    "\n",
    "        # Define a helper function here?\n",
    "        def z_helper(series):\n",
    "            #we need column name and group. How to access?\n",
    "            #to get the group name use series.name\n",
    "            group_name = series.name\n",
    "            series = series.set_index(series.columns[0])\n",
    "            def standardize(col):\n",
    "                mean = self.grps_[(col.name, 'mean')][group_name]\n",
    "                std = self.grps_[(col.name, 'std')][group_name]\n",
    "                standardized = (col - mean) / std\n",
    "                return standardized\n",
    "\n",
    "            return series.apply(standardize)\n",
    "            \n",
    "        \n",
    "        # X may not be a dataframe (e.g. np.array)\n",
    "\n",
    "        df = pd.DataFrame(X)\n",
    "        \n",
    "        return df.groupby(df.columns[0]).apply(z_helper)\n",
    "        "
   ]
  },
  {
   "cell_type": "code",
   "execution_count": 20,
   "metadata": {},
   "outputs": [],
   "source": [
    "def to_string(x):\n",
    "        return pd.DataFrame(x).astype(str)\n",
    "num_to_str = FunctionTransformer(func = to_string, validate=False)\n",
    "\n",
    "month_trans = Pipeline(steps = [\n",
    "            ('to_string', num_to_str),\n",
    "            #added categories='auto' to silence warning message\n",
    "            #handle_unknown incase there are unseen values in the test set\n",
    "            ('ohe', OneHotEncoder(handle_unknown = 'ignore', categories='auto'))\n",
    "            ])\n",
    "\n",
    "ct = ColumnTransformer(\n",
    "    [\n",
    "        ('ohe', OneHotEncoder(handle_unknown = 'ignore', categories='auto'), ['POSTAL.CODE', 'CLIMATE.REGION']),\n",
    "        ('std', StdScalerByGroup(), ['CLIMATE.REGION','ANOMALY.LEVEL']),\n",
    "        ('month_trans', month_trans, ['MONTH'])\n",
    "        \n",
    "    ])\n",
    "pl = Pipeline(steps = [\n",
    "            ('columntrans', ct),\n",
    "            ('knn',  KNeighborsClassifier(n_neighbors = best_k))\n",
    "            ])"
   ]
  },
  {
   "cell_type": "code",
   "execution_count": 21,
   "metadata": {},
   "outputs": [],
   "source": [
    "#finding average average accuracy\n",
    "\n",
    "accuracies = []\n",
    "for i in range(400):\n",
    "    y = subset['CAUSE.CATEGORY']\n",
    "    x = subset.drop('CAUSE.CATEGORY', axis=1)\n",
    "    x_train, x_test, y_train, y_test = train_test_split(x, y)\n",
    "    pl.fit(x_train, y_train)\n",
    "    accuracies.append(accuracy_score(y_test, pl.predict(x_test)))"
   ]
  },
  {
   "cell_type": "code",
   "execution_count": 22,
   "metadata": {
    "scrolled": true
   },
   "outputs": [
    {
     "data": {
      "text/plain": [
       "0.6031951871657754"
      ]
     },
     "execution_count": 22,
     "metadata": {},
     "output_type": "execute_result"
    }
   ],
   "source": [
    "pd.Series(accuracies).mean()"
   ]
  },
  {
   "cell_type": "markdown",
   "metadata": {},
   "source": [
    "### Fairness Evaluation"
   ]
  },
  {
   "cell_type": "code",
   "execution_count": 30,
   "metadata": {},
   "outputs": [],
   "source": [
    "income_cutoff = subset['PC.REALGSP.STATE'].median()"
   ]
  },
  {
   "cell_type": "code",
   "execution_count": 29,
   "metadata": {},
   "outputs": [],
   "source": [
    "#create boolean variable\n",
    "subset['low_income'] = subset['PC.REALGSP.STATE'] < income_cutoff"
   ]
  },
  {
   "cell_type": "code",
   "execution_count": 39,
   "metadata": {},
   "outputs": [],
   "source": [
    "def get_accuracy(df):\n",
    "    accuracies = []\n",
    "    for i in range(10):\n",
    "        y = subset['CAUSE.CATEGORY']\n",
    "        x = subset.drop('CAUSE.CATEGORY', axis=1)\n",
    "        x_train, x_test, y_train, y_test = train_test_split(x, y)\n",
    "        pl.fit(x_train, y_train)\n",
    "        accuracies.append(accuracy_score(y_test, pl.predict(x_test)))\n",
    "    return pd.Series(accuracies).mean()"
   ]
  },
  {
   "cell_type": "code",
   "execution_count": 40,
   "metadata": {},
   "outputs": [],
   "source": [
    "high_income = subset[subset['PC.REALGSP.STATE'] >= income_cutoff]\n",
    "low_income = subset[subset['PC.REALGSP.STATE'] < income_cutoff]\n",
    "\n",
    "#calculate observed statistic\n",
    "#it will be the difference bewteen the stat for the high income and low income\n",
    "\n",
    "observed_stat = get_accuracy(high_income) - get_accuracy(low_income)"
   ]
  },
  {
   "cell_type": "code",
   "execution_count": 41,
   "metadata": {},
   "outputs": [
    {
     "data": {
      "text/plain": [
       "0.005347593582887722"
      ]
     },
     "execution_count": 41,
     "metadata": {},
     "output_type": "execute_result"
    }
   ],
   "source": [
    "observed_stat"
   ]
  },
  {
   "cell_type": "code",
   "execution_count": 42,
   "metadata": {},
   "outputs": [],
   "source": [
    "gen_stats = []\n",
    "for i in range(100):  \n",
    "    #shuffle column of interest\n",
    "    shuffled_col = (\n",
    "        subset['PC.REALGSP.STATE']\n",
    "        .sample(replace = False, frac=1)\n",
    "        .reset_index(drop=True)\n",
    "    )\n",
    "\n",
    "    #assign shuffled column to original dataframe\n",
    "    shuffled_df = (\n",
    "        subset.assign(**{\n",
    "            'PC.REALGSP.STATE':shuffled_col,\n",
    "        })\n",
    "    )\n",
    "    #calculate statistic\n",
    "    high_income = shuffled_df[shuffled_df['PC.REALGSP.STATE'] >= income_cutoff]\n",
    "    low_income = shuffled_df[shuffled_df['PC.REALGSP.STATE'] < income_cutoff]\n",
    "    \n",
    "    gen_stats.append(get_accuracy(high_income) - get_accuracy(low_income))"
   ]
  },
  {
   "cell_type": "code",
   "execution_count": 44,
   "metadata": {},
   "outputs": [
    {
     "name": "stdout",
     "output_type": "stream",
     "text": [
      "p value = 0.73\n"
     ]
    },
    {
     "data": {
      "image/png": "[encoded data removed]",
      "text/plain": [
       "<Figure size 432x288 with 1 Axes>"
      ]
     },
     "metadata": {
      "image/png": {
       "height": 277,
       "width": 388
      },
      "needs_background": "light"
     },
     "output_type": "display_data"
    }
   ],
   "source": [
    "pd.Series(gen_stats).plot(kind='hist', density=True, alpha = 0.8, bins=20)\n",
    "plt.xlabel(\"generated accuracy differences\")\n",
    "plt.title(\"observed accuracy difference relative to those generated\")\n",
    "plt.axvline(x=observed_stat, color='red')\n",
    "\n",
    "print('p value = ' + str(np.mean(pd.Series(gen_stats) <= observed_stat)))"
   ]
  },
  {
   "cell_type": "markdown",
   "metadata": {},
   "source": [
    "The model is fair between different income states"
   ]
  }
 ],
 "metadata": {
  "kernelspec": {
   "display_name": "Python 3",
   "language": "python",
   "name": "python3"
  },
  "language_info": {
   "codemirror_mode": {
    "name": "ipython",
    "version": 3
   },
   "file_extension": ".py",
   "mimetype": "text/x-python",
   "name": "python",
   "nbconvert_exporter": "python",
   "pygments_lexer": "ipython3",
   "version": "3.7.3"
  }
 },
 "nbformat": 4,
 "nbformat_minor": 2
}
