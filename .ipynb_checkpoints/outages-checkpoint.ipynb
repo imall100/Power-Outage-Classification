{
 "cells": [
  {
   "cell_type": "markdown",
   "metadata": {},
   "source": [
    "# Power Outages\n",
    "* **See the main project notebook for instructions to be sure you satisfy the rubric!**\n",
    "* See Project 03 for information on the dataset.\n",
    "* A few example prediction questions to pursue are listed below. However, don't limit yourself to them!\n",
    "    * Predict the severity (number of customers, duration, or demand loss) of a major power outage.\n",
    "    * Predict the cause of a major power outage.\n",
    "    * Predict the number and/or severity of major power outages in the year 2020.\n",
    "    * Predict the electricity consumption of an area.\n",
    "\n",
    "Be careful to justify what information you would know at the \"time of prediction\" and train your model using only those features."
   ]
  },
  {
   "cell_type": "markdown",
   "metadata": {},
   "source": [
    "# Summary of Findings\n",
    "\n",
    "\n",
    "### Introduction\n",
    "I think we should try to predict outage duration\n",
    "\n",
    "### Baseline Model\n",
    "TODO\n",
    "\n",
    "### Final Model\n",
    "TODO\n",
    "\n",
    "### Fairness Evaluation\n",
    "TODO"
   ]
  },
  {
   "cell_type": "markdown",
   "metadata": {},
   "source": [
    "# Code"
   ]
  },
  {
   "cell_type": "code",
   "execution_count": 126,
   "metadata": {},
   "outputs": [],
   "source": [
    "import matplotlib.pyplot as plt\n",
    "import numpy as np\n",
    "import os\n",
    "import pandas as pd\n",
    "import seaborn as sns\n",
    "from sklearn.linear_model import LinearRegression\n",
    "from sklearn.preprocessing import FunctionTransformer\n",
    "from sklearn.preprocessing import OneHotEncoder\n",
    "from sklearn.pipeline import Pipeline\n",
    "from sklearn.compose import ColumnTransformer\n",
    "from sklearn.model_selection import train_test_split\n",
    "from sklearn.metrics import r2_score\n",
    "from sklearn.neighbors import KNeighborsClassifier\n",
    "from sklearn.metrics import accuracy_score\n",
    "from sklearn.model_selection import GridSearchCV\n",
    "from sklearn.base import BaseEstimator, TransformerMixin\n",
    "\n",
    "\n",
    "\n",
    "%matplotlib inline\n",
    "%config InlineBackend.figure_format = 'retina'  # Higher resolution figures"
   ]
  },
  {
   "cell_type": "markdown",
   "metadata": {},
   "source": [
    "### Baseline Model"
   ]
  },
  {
   "cell_type": "markdown",
   "metadata": {},
   "source": [
    "variables to predict with: POSTAL.CODE, CAUSE.CATEGORY, TOTAL.CUSTOMERS, TOTAL.PRICE, TOTAL.SALES, PC.REALGSP.STATE, TOTAL.REALGSP, AREAPCT_URBAN"
   ]
  },
  {
   "cell_type": "code",
   "execution_count": 2,
   "metadata": {},
   "outputs": [],
   "source": [
    "#importing data and putting it into the correct format\n",
    "data = pd.read_excel('outage.xlsx')\n",
    "\n",
    "data = data.drop(index=[0,1,2,3,5], axis=0)\n",
    "new_header = data.iloc[0]\n",
    "data = data[1:]\n",
    "data.columns = new_header\n",
    "data = data.drop(labels='variables', axis=1)\n",
    "data = data.reset_index()"
   ]
  },
  {
   "cell_type": "code",
   "execution_count": 51,
   "metadata": {
    "scrolled": true
   },
   "outputs": [],
   "source": [
    "subset = data[['OUTAGE.DURATION','POSTAL.CODE', 'CAUSE.CATEGORY', 'TOTAL.CUSTOMERS', 'TOTAL.PRICE', 'TOTAL.SALES', 'PC.REALGSP.STATE', 'TOTAL.REALGSP', 'AREAPCT_URBAN', 'ANOMALY.LEVEL']]"
   ]
  },
  {
   "cell_type": "code",
   "execution_count": 52,
   "metadata": {
    "scrolled": false
   },
   "outputs": [
    {
     "data": {
      "text/plain": [
       "4\n",
       "OUTAGE.DURATION     58\n",
       "POSTAL.CODE          0\n",
       "CAUSE.CATEGORY       0\n",
       "TOTAL.CUSTOMERS      0\n",
       "TOTAL.PRICE         22\n",
       "TOTAL.SALES         22\n",
       "PC.REALGSP.STATE     0\n",
       "TOTAL.REALGSP        0\n",
       "AREAPCT_URBAN        0\n",
       "ANOMALY.LEVEL        9\n",
       "dtype: int64"
      ]
     },
     "execution_count": 52,
     "metadata": {},
     "output_type": "execute_result"
    }
   ],
   "source": [
    "subset.isnull().sum()"
   ]
  },
  {
   "cell_type": "code",
   "execution_count": 49,
   "metadata": {},
   "outputs": [
    {
     "data": {
      "text/html": [
       "<div>\n",
       "<style scoped>\n",
       "    .dataframe tbody tr th:only-of-type {\n",
       "        vertical-align: middle;\n",
       "    }\n",
       "\n",
       "    .dataframe tbody tr th {\n",
       "        vertical-align: top;\n",
       "    }\n",
       "\n",
       "    .dataframe thead th {\n",
       "        text-align: right;\n",
       "    }\n",
       "</style>\n",
       "<table border=\"1\" class=\"dataframe\">\n",
       "  <thead>\n",
       "    <tr style=\"text-align: right;\">\n",
       "      <th>4</th>\n",
       "      <th>index</th>\n",
       "      <th>OBS</th>\n",
       "      <th>YEAR</th>\n",
       "      <th>MONTH</th>\n",
       "      <th>U.S._STATE</th>\n",
       "      <th>POSTAL.CODE</th>\n",
       "      <th>NERC.REGION</th>\n",
       "      <th>CLIMATE.REGION</th>\n",
       "      <th>ANOMALY.LEVEL</th>\n",
       "      <th>CLIMATE.CATEGORY</th>\n",
       "      <th>...</th>\n",
       "      <th>POPPCT_URBAN</th>\n",
       "      <th>POPPCT_UC</th>\n",
       "      <th>POPDEN_URBAN</th>\n",
       "      <th>POPDEN_UC</th>\n",
       "      <th>POPDEN_RURAL</th>\n",
       "      <th>AREAPCT_URBAN</th>\n",
       "      <th>AREAPCT_UC</th>\n",
       "      <th>PCT_LAND</th>\n",
       "      <th>PCT_WATER_TOT</th>\n",
       "      <th>PCT_WATER_INLAND</th>\n",
       "    </tr>\n",
       "  </thead>\n",
       "  <tbody>\n",
       "    <tr>\n",
       "      <th>0</th>\n",
       "      <td>6</td>\n",
       "      <td>1</td>\n",
       "      <td>2011</td>\n",
       "      <td>7</td>\n",
       "      <td>Minnesota</td>\n",
       "      <td>MN</td>\n",
       "      <td>MRO</td>\n",
       "      <td>East North Central</td>\n",
       "      <td>-0.3</td>\n",
       "      <td>normal</td>\n",
       "      <td>...</td>\n",
       "      <td>73.27</td>\n",
       "      <td>15.28</td>\n",
       "      <td>2279</td>\n",
       "      <td>1700.5</td>\n",
       "      <td>18.2</td>\n",
       "      <td>2.14</td>\n",
       "      <td>0.6</td>\n",
       "      <td>91.5927</td>\n",
       "      <td>8.40733</td>\n",
       "      <td>5.47874</td>\n",
       "    </tr>\n",
       "    <tr>\n",
       "      <th>1</th>\n",
       "      <td>7</td>\n",
       "      <td>2</td>\n",
       "      <td>2014</td>\n",
       "      <td>5</td>\n",
       "      <td>Minnesota</td>\n",
       "      <td>MN</td>\n",
       "      <td>MRO</td>\n",
       "      <td>East North Central</td>\n",
       "      <td>-0.1</td>\n",
       "      <td>normal</td>\n",
       "      <td>...</td>\n",
       "      <td>73.27</td>\n",
       "      <td>15.28</td>\n",
       "      <td>2279</td>\n",
       "      <td>1700.5</td>\n",
       "      <td>18.2</td>\n",
       "      <td>2.14</td>\n",
       "      <td>0.6</td>\n",
       "      <td>91.5927</td>\n",
       "      <td>8.40733</td>\n",
       "      <td>5.47874</td>\n",
       "    </tr>\n",
       "    <tr>\n",
       "      <th>2</th>\n",
       "      <td>8</td>\n",
       "      <td>3</td>\n",
       "      <td>2010</td>\n",
       "      <td>10</td>\n",
       "      <td>Minnesota</td>\n",
       "      <td>MN</td>\n",
       "      <td>MRO</td>\n",
       "      <td>East North Central</td>\n",
       "      <td>-1.5</td>\n",
       "      <td>cold</td>\n",
       "      <td>...</td>\n",
       "      <td>73.27</td>\n",
       "      <td>15.28</td>\n",
       "      <td>2279</td>\n",
       "      <td>1700.5</td>\n",
       "      <td>18.2</td>\n",
       "      <td>2.14</td>\n",
       "      <td>0.6</td>\n",
       "      <td>91.5927</td>\n",
       "      <td>8.40733</td>\n",
       "      <td>5.47874</td>\n",
       "    </tr>\n",
       "    <tr>\n",
       "      <th>3</th>\n",
       "      <td>9</td>\n",
       "      <td>4</td>\n",
       "      <td>2012</td>\n",
       "      <td>6</td>\n",
       "      <td>Minnesota</td>\n",
       "      <td>MN</td>\n",
       "      <td>MRO</td>\n",
       "      <td>East North Central</td>\n",
       "      <td>-0.1</td>\n",
       "      <td>normal</td>\n",
       "      <td>...</td>\n",
       "      <td>73.27</td>\n",
       "      <td>15.28</td>\n",
       "      <td>2279</td>\n",
       "      <td>1700.5</td>\n",
       "      <td>18.2</td>\n",
       "      <td>2.14</td>\n",
       "      <td>0.6</td>\n",
       "      <td>91.5927</td>\n",
       "      <td>8.40733</td>\n",
       "      <td>5.47874</td>\n",
       "    </tr>\n",
       "    <tr>\n",
       "      <th>4</th>\n",
       "      <td>10</td>\n",
       "      <td>5</td>\n",
       "      <td>2015</td>\n",
       "      <td>7</td>\n",
       "      <td>Minnesota</td>\n",
       "      <td>MN</td>\n",
       "      <td>MRO</td>\n",
       "      <td>East North Central</td>\n",
       "      <td>1.2</td>\n",
       "      <td>warm</td>\n",
       "      <td>...</td>\n",
       "      <td>73.27</td>\n",
       "      <td>15.28</td>\n",
       "      <td>2279</td>\n",
       "      <td>1700.5</td>\n",
       "      <td>18.2</td>\n",
       "      <td>2.14</td>\n",
       "      <td>0.6</td>\n",
       "      <td>91.5927</td>\n",
       "      <td>8.40733</td>\n",
       "      <td>5.47874</td>\n",
       "    </tr>\n",
       "    <tr>\n",
       "      <th>...</th>\n",
       "      <td>...</td>\n",
       "      <td>...</td>\n",
       "      <td>...</td>\n",
       "      <td>...</td>\n",
       "      <td>...</td>\n",
       "      <td>...</td>\n",
       "      <td>...</td>\n",
       "      <td>...</td>\n",
       "      <td>...</td>\n",
       "      <td>...</td>\n",
       "      <td>...</td>\n",
       "      <td>...</td>\n",
       "      <td>...</td>\n",
       "      <td>...</td>\n",
       "      <td>...</td>\n",
       "      <td>...</td>\n",
       "      <td>...</td>\n",
       "      <td>...</td>\n",
       "      <td>...</td>\n",
       "      <td>...</td>\n",
       "      <td>...</td>\n",
       "    </tr>\n",
       "    <tr>\n",
       "      <th>1529</th>\n",
       "      <td>1535</td>\n",
       "      <td>1530</td>\n",
       "      <td>2011</td>\n",
       "      <td>12</td>\n",
       "      <td>North Dakota</td>\n",
       "      <td>ND</td>\n",
       "      <td>MRO</td>\n",
       "      <td>West North Central</td>\n",
       "      <td>-0.9</td>\n",
       "      <td>cold</td>\n",
       "      <td>...</td>\n",
       "      <td>59.9</td>\n",
       "      <td>19.9</td>\n",
       "      <td>2192.2</td>\n",
       "      <td>1868.2</td>\n",
       "      <td>3.9</td>\n",
       "      <td>0.27</td>\n",
       "      <td>0.1</td>\n",
       "      <td>97.5996</td>\n",
       "      <td>2.40177</td>\n",
       "      <td>2.40177</td>\n",
       "    </tr>\n",
       "    <tr>\n",
       "      <th>1530</th>\n",
       "      <td>1536</td>\n",
       "      <td>1531</td>\n",
       "      <td>2006</td>\n",
       "      <td>NaN</td>\n",
       "      <td>North Dakota</td>\n",
       "      <td>ND</td>\n",
       "      <td>MRO</td>\n",
       "      <td>West North Central</td>\n",
       "      <td>NaN</td>\n",
       "      <td>NaN</td>\n",
       "      <td>...</td>\n",
       "      <td>59.9</td>\n",
       "      <td>19.9</td>\n",
       "      <td>2192.2</td>\n",
       "      <td>1868.2</td>\n",
       "      <td>3.9</td>\n",
       "      <td>0.27</td>\n",
       "      <td>0.1</td>\n",
       "      <td>97.5996</td>\n",
       "      <td>2.40177</td>\n",
       "      <td>2.40177</td>\n",
       "    </tr>\n",
       "    <tr>\n",
       "      <th>1531</th>\n",
       "      <td>1537</td>\n",
       "      <td>1532</td>\n",
       "      <td>2009</td>\n",
       "      <td>8</td>\n",
       "      <td>South Dakota</td>\n",
       "      <td>SD</td>\n",
       "      <td>RFC</td>\n",
       "      <td>West North Central</td>\n",
       "      <td>0.5</td>\n",
       "      <td>warm</td>\n",
       "      <td>...</td>\n",
       "      <td>56.65</td>\n",
       "      <td>26.73</td>\n",
       "      <td>2038.3</td>\n",
       "      <td>1905.4</td>\n",
       "      <td>4.7</td>\n",
       "      <td>0.3</td>\n",
       "      <td>0.15</td>\n",
       "      <td>98.3077</td>\n",
       "      <td>1.69226</td>\n",
       "      <td>1.69226</td>\n",
       "    </tr>\n",
       "    <tr>\n",
       "      <th>1532</th>\n",
       "      <td>1538</td>\n",
       "      <td>1533</td>\n",
       "      <td>2009</td>\n",
       "      <td>8</td>\n",
       "      <td>South Dakota</td>\n",
       "      <td>SD</td>\n",
       "      <td>MRO</td>\n",
       "      <td>West North Central</td>\n",
       "      <td>0.5</td>\n",
       "      <td>warm</td>\n",
       "      <td>...</td>\n",
       "      <td>56.65</td>\n",
       "      <td>26.73</td>\n",
       "      <td>2038.3</td>\n",
       "      <td>1905.4</td>\n",
       "      <td>4.7</td>\n",
       "      <td>0.3</td>\n",
       "      <td>0.15</td>\n",
       "      <td>98.3077</td>\n",
       "      <td>1.69226</td>\n",
       "      <td>1.69226</td>\n",
       "    </tr>\n",
       "    <tr>\n",
       "      <th>1533</th>\n",
       "      <td>1539</td>\n",
       "      <td>1534</td>\n",
       "      <td>2000</td>\n",
       "      <td>NaN</td>\n",
       "      <td>Alaska</td>\n",
       "      <td>AK</td>\n",
       "      <td>ASCC</td>\n",
       "      <td>NaN</td>\n",
       "      <td>NaN</td>\n",
       "      <td>NaN</td>\n",
       "      <td>...</td>\n",
       "      <td>66.02</td>\n",
       "      <td>21.56</td>\n",
       "      <td>1802.6</td>\n",
       "      <td>1276</td>\n",
       "      <td>0.4</td>\n",
       "      <td>0.05</td>\n",
       "      <td>0.02</td>\n",
       "      <td>85.7612</td>\n",
       "      <td>14.2388</td>\n",
       "      <td>2.90118</td>\n",
       "    </tr>\n",
       "  </tbody>\n",
       "</table>\n",
       "<p>1534 rows × 57 columns</p>\n",
       "</div>"
      ],
      "text/plain": [
       "4     index   OBS  YEAR MONTH    U.S._STATE POSTAL.CODE NERC.REGION  \\\n",
       "0         6     1  2011     7     Minnesota          MN         MRO   \n",
       "1         7     2  2014     5     Minnesota          MN         MRO   \n",
       "2         8     3  2010    10     Minnesota          MN         MRO   \n",
       "3         9     4  2012     6     Minnesota          MN         MRO   \n",
       "4        10     5  2015     7     Minnesota          MN         MRO   \n",
       "...     ...   ...   ...   ...           ...         ...         ...   \n",
       "1529   1535  1530  2011    12  North Dakota          ND         MRO   \n",
       "1530   1536  1531  2006   NaN  North Dakota          ND         MRO   \n",
       "1531   1537  1532  2009     8  South Dakota          SD         RFC   \n",
       "1532   1538  1533  2009     8  South Dakota          SD         MRO   \n",
       "1533   1539  1534  2000   NaN        Alaska          AK        ASCC   \n",
       "\n",
       "4         CLIMATE.REGION ANOMALY.LEVEL CLIMATE.CATEGORY  ... POPPCT_URBAN  \\\n",
       "0     East North Central          -0.3           normal  ...        73.27   \n",
       "1     East North Central          -0.1           normal  ...        73.27   \n",
       "2     East North Central          -1.5             cold  ...        73.27   \n",
       "3     East North Central          -0.1           normal  ...        73.27   \n",
       "4     East North Central           1.2             warm  ...        73.27   \n",
       "...                  ...           ...              ...  ...          ...   \n",
       "1529  West North Central          -0.9             cold  ...         59.9   \n",
       "1530  West North Central           NaN              NaN  ...         59.9   \n",
       "1531  West North Central           0.5             warm  ...        56.65   \n",
       "1532  West North Central           0.5             warm  ...        56.65   \n",
       "1533                 NaN           NaN              NaN  ...        66.02   \n",
       "\n",
       "4    POPPCT_UC POPDEN_URBAN POPDEN_UC POPDEN_RURAL AREAPCT_URBAN AREAPCT_UC  \\\n",
       "0        15.28         2279    1700.5         18.2          2.14        0.6   \n",
       "1        15.28         2279    1700.5         18.2          2.14        0.6   \n",
       "2        15.28         2279    1700.5         18.2          2.14        0.6   \n",
       "3        15.28         2279    1700.5         18.2          2.14        0.6   \n",
       "4        15.28         2279    1700.5         18.2          2.14        0.6   \n",
       "...        ...          ...       ...          ...           ...        ...   \n",
       "1529      19.9       2192.2    1868.2          3.9          0.27        0.1   \n",
       "1530      19.9       2192.2    1868.2          3.9          0.27        0.1   \n",
       "1531     26.73       2038.3    1905.4          4.7           0.3       0.15   \n",
       "1532     26.73       2038.3    1905.4          4.7           0.3       0.15   \n",
       "1533     21.56       1802.6      1276          0.4          0.05       0.02   \n",
       "\n",
       "4    PCT_LAND PCT_WATER_TOT PCT_WATER_INLAND  \n",
       "0     91.5927       8.40733          5.47874  \n",
       "1     91.5927       8.40733          5.47874  \n",
       "2     91.5927       8.40733          5.47874  \n",
       "3     91.5927       8.40733          5.47874  \n",
       "4     91.5927       8.40733          5.47874  \n",
       "...       ...           ...              ...  \n",
       "1529  97.5996       2.40177          2.40177  \n",
       "1530  97.5996       2.40177          2.40177  \n",
       "1531  98.3077       1.69226          1.69226  \n",
       "1532  98.3077       1.69226          1.69226  \n",
       "1533  85.7612       14.2388          2.90118  \n",
       "\n",
       "[1534 rows x 57 columns]"
      ]
     },
     "execution_count": 49,
     "metadata": {},
     "output_type": "execute_result"
    }
   ],
   "source": [
    "data"
   ]
  },
  {
   "cell_type": "code",
   "execution_count": 53,
   "metadata": {},
   "outputs": [],
   "source": [
    "#handling null values\n",
    "#subset.isnull().sum()\n",
    "\n",
    "columns_with_nulls = ['OUTAGE.DURATION', 'TOTAL.PRICE', 'TOTAL.SALES']\n",
    "\n",
    "for col in columns_with_nulls:\n",
    "    num_null = subset[col].isnull().sum()\n",
    "    fills = subset[col].dropna().sample(num_null, replace = True)\n",
    "    fills.index = subset.loc[subset[col].isnull()].index\n",
    "    subset = subset.fillna({col:fills.to_dict()})\n",
    "\n"
   ]
  },
  {
   "cell_type": "code",
   "execution_count": 70,
   "metadata": {},
   "outputs": [],
   "source": [
    "ct1 = ColumnTransformer(\n",
    "    [\n",
    "        ('ohe', OneHotEncoder(handle_unknown = 'ignore'), ['POSTAL.CODE', 'CAUSE.CATEGORY']),\n",
    "    ])\n",
    "pl1 = Pipeline(steps = [\n",
    "            ('columntrans', ct),\n",
    "            ('reg', LinearRegression())\n",
    "            ])"
   ]
  },
  {
   "cell_type": "code",
   "execution_count": 71,
   "metadata": {},
   "outputs": [
    {
     "data": {
      "text/plain": [
       "Pipeline(memory=None,\n",
       "     steps=[('columntrans', ColumnTransformer(n_jobs=None, remainder='drop', sparse_threshold=0.3,\n",
       "         transformer_weights=None,\n",
       "         transformers=[('ohe', OneHotEncoder(categorical_features=None, categories=None,\n",
       "       dtype=<class 'numpy.float64'>, handle_unknown='error',\n",
       "       n_values=None, sparse=True), ['POSTAL.CODE', 'CAUSE.CATEGORY'])])), ('reg', LinearRegression(copy_X=True, fit_intercept=True, n_jobs=None,\n",
       "         normalize=False))])"
      ]
     },
     "execution_count": 71,
     "metadata": {},
     "output_type": "execute_result"
    }
   ],
   "source": [
    "x = subset.drop('OUTAGE.DURATION', axis=1)\n",
    "y = subset['OUTAGE.DURATION']\n",
    "x_train, x_test, y_train, y_test = train_test_split(x, y)\n",
    "\n",
    "pl1.fit(x_train, y_train)\n",
    "\n"
   ]
  },
  {
   "cell_type": "code",
   "execution_count": 72,
   "metadata": {},
   "outputs": [],
   "source": [
    "pred = pl1.predict(x_test)"
   ]
  },
  {
   "cell_type": "code",
   "execution_count": 64,
   "metadata": {},
   "outputs": [
    {
     "data": {
      "text/plain": [
       "array([16332.96102316, -1350.82872342, -1142.75454037,  4552.99469351,\n",
       "       -1122.84550098, -1428.1521702 ,  -978.67150553,   241.2927199 ,\n",
       "        -600.22436588,   882.42167078, -2265.14505402, -2564.63792701,\n",
       "        3787.57935833,  -318.25365889, -2360.04448271,   457.43326204,\n",
       "         333.51893061,   841.85935161,   922.82229637, -1214.45316877,\n",
       "          69.9771147 , -1731.84579757,  1887.20830195,  -331.69890715,\n",
       "         199.75712587,  -557.52797745,  -752.4853572 , -2046.14951552,\n",
       "        -646.059583  ,  -892.19596144,  -836.132017  ,   966.60175109,\n",
       "       -2078.09068177,   -26.77474287,  3054.85053406,  -105.79250343,\n",
       "        -974.87805066,  -523.62187249,   324.04488888, -1435.15572858,\n",
       "       -1025.42694824, -1850.20172377,  -335.7474429 ,  -636.03891003,\n",
       "       -2666.31648567,  -534.08402307,    93.08239014,  -764.1148029 ,\n",
       "        3857.12850732, -1676.23510318,  -143.01934597,  5551.23500365,\n",
       "       -1957.53154678, -1442.6303073 , -1053.22264374,  1445.595177  ,\n",
       "       -1367.4776502 ])"
      ]
     },
     "execution_count": 64,
     "metadata": {},
     "output_type": "execute_result"
    }
   ],
   "source": [
    "pl1.named_steps['reg'].coef_"
   ]
  },
  {
   "cell_type": "code",
   "execution_count": 48,
   "metadata": {
    "scrolled": true
   },
   "outputs": [
    {
     "data": {
      "text/html": [
       "<div>\n",
       "<style scoped>\n",
       "    .dataframe tbody tr th:only-of-type {\n",
       "        vertical-align: middle;\n",
       "    }\n",
       "\n",
       "    .dataframe tbody tr th {\n",
       "        vertical-align: top;\n",
       "    }\n",
       "\n",
       "    .dataframe thead th {\n",
       "        text-align: right;\n",
       "    }\n",
       "</style>\n",
       "<table border=\"1\" class=\"dataframe\">\n",
       "  <thead>\n",
       "    <tr style=\"text-align: right;\">\n",
       "      <th>4</th>\n",
       "      <th>OUTAGE.DURATION</th>\n",
       "      <th>POSTAL.CODE</th>\n",
       "      <th>CAUSE.CATEGORY</th>\n",
       "      <th>TOTAL.CUSTOMERS</th>\n",
       "      <th>TOTAL.PRICE</th>\n",
       "      <th>TOTAL.SALES</th>\n",
       "      <th>PC.REALGSP.STATE</th>\n",
       "      <th>TOTAL.REALGSP</th>\n",
       "      <th>AREAPCT_URBAN</th>\n",
       "    </tr>\n",
       "  </thead>\n",
       "  <tbody>\n",
       "    <tr>\n",
       "      <th>0</th>\n",
       "      <td>3060.0</td>\n",
       "      <td>MN</td>\n",
       "      <td>severe weather</td>\n",
       "      <td>2595696</td>\n",
       "      <td>9.28</td>\n",
       "      <td>6562520.0</td>\n",
       "      <td>51268</td>\n",
       "      <td>274182</td>\n",
       "      <td>2.14</td>\n",
       "    </tr>\n",
       "    <tr>\n",
       "      <th>1</th>\n",
       "      <td>1.0</td>\n",
       "      <td>MN</td>\n",
       "      <td>intentional attack</td>\n",
       "      <td>2640737</td>\n",
       "      <td>9.28</td>\n",
       "      <td>5284231.0</td>\n",
       "      <td>53499</td>\n",
       "      <td>291955</td>\n",
       "      <td>2.14</td>\n",
       "    </tr>\n",
       "    <tr>\n",
       "      <th>2</th>\n",
       "      <td>3000.0</td>\n",
       "      <td>MN</td>\n",
       "      <td>severe weather</td>\n",
       "      <td>2586905</td>\n",
       "      <td>8.15</td>\n",
       "      <td>5222116.0</td>\n",
       "      <td>50447</td>\n",
       "      <td>267895</td>\n",
       "      <td>2.14</td>\n",
       "    </tr>\n",
       "    <tr>\n",
       "      <th>3</th>\n",
       "      <td>2550.0</td>\n",
       "      <td>MN</td>\n",
       "      <td>severe weather</td>\n",
       "      <td>2606813</td>\n",
       "      <td>9.19</td>\n",
       "      <td>5787064.0</td>\n",
       "      <td>51598</td>\n",
       "      <td>277627</td>\n",
       "      <td>2.14</td>\n",
       "    </tr>\n",
       "    <tr>\n",
       "      <th>4</th>\n",
       "      <td>1740.0</td>\n",
       "      <td>MN</td>\n",
       "      <td>severe weather</td>\n",
       "      <td>2673531</td>\n",
       "      <td>10.43</td>\n",
       "      <td>5970339.0</td>\n",
       "      <td>54431</td>\n",
       "      <td>292023</td>\n",
       "      <td>2.14</td>\n",
       "    </tr>\n",
       "    <tr>\n",
       "      <th>...</th>\n",
       "      <td>...</td>\n",
       "      <td>...</td>\n",
       "      <td>...</td>\n",
       "      <td>...</td>\n",
       "      <td>...</td>\n",
       "      <td>...</td>\n",
       "      <td>...</td>\n",
       "      <td>...</td>\n",
       "      <td>...</td>\n",
       "    </tr>\n",
       "    <tr>\n",
       "      <th>1529</th>\n",
       "      <td>720.0</td>\n",
       "      <td>ND</td>\n",
       "      <td>public appeal</td>\n",
       "      <td>394394</td>\n",
       "      <td>7.56</td>\n",
       "      <td>1313678.0</td>\n",
       "      <td>57012</td>\n",
       "      <td>39067</td>\n",
       "      <td>0.27</td>\n",
       "    </tr>\n",
       "    <tr>\n",
       "      <th>1530</th>\n",
       "      <td>2490.0</td>\n",
       "      <td>ND</td>\n",
       "      <td>fuel supply emergency</td>\n",
       "      <td>366037</td>\n",
       "      <td>11.08</td>\n",
       "      <td>7583977.0</td>\n",
       "      <td>42913</td>\n",
       "      <td>27868</td>\n",
       "      <td>0.27</td>\n",
       "    </tr>\n",
       "    <tr>\n",
       "      <th>1531</th>\n",
       "      <td>59.0</td>\n",
       "      <td>SD</td>\n",
       "      <td>islanding</td>\n",
       "      <td>436229</td>\n",
       "      <td>7.67</td>\n",
       "      <td>924051.0</td>\n",
       "      <td>45230</td>\n",
       "      <td>36504</td>\n",
       "      <td>0.3</td>\n",
       "    </tr>\n",
       "    <tr>\n",
       "      <th>1532</th>\n",
       "      <td>181.0</td>\n",
       "      <td>SD</td>\n",
       "      <td>islanding</td>\n",
       "      <td>436229</td>\n",
       "      <td>7.67</td>\n",
       "      <td>924051.0</td>\n",
       "      <td>45230</td>\n",
       "      <td>36504</td>\n",
       "      <td>0.3</td>\n",
       "    </tr>\n",
       "    <tr>\n",
       "      <th>1533</th>\n",
       "      <td>7540.0</td>\n",
       "      <td>AK</td>\n",
       "      <td>equipment failure</td>\n",
       "      <td>273530</td>\n",
       "      <td>8.87</td>\n",
       "      <td>10846247.0</td>\n",
       "      <td>57401</td>\n",
       "      <td>36046</td>\n",
       "      <td>0.05</td>\n",
       "    </tr>\n",
       "  </tbody>\n",
       "</table>\n",
       "<p>1534 rows × 9 columns</p>\n",
       "</div>"
      ],
      "text/plain": [
       "4     OUTAGE.DURATION POSTAL.CODE         CAUSE.CATEGORY TOTAL.CUSTOMERS  \\\n",
       "0              3060.0          MN         severe weather         2595696   \n",
       "1                 1.0          MN     intentional attack         2640737   \n",
       "2              3000.0          MN         severe weather         2586905   \n",
       "3              2550.0          MN         severe weather         2606813   \n",
       "4              1740.0          MN         severe weather         2673531   \n",
       "...               ...         ...                    ...             ...   \n",
       "1529            720.0          ND          public appeal          394394   \n",
       "1530           2490.0          ND  fuel supply emergency          366037   \n",
       "1531             59.0          SD              islanding          436229   \n",
       "1532            181.0          SD              islanding          436229   \n",
       "1533           7540.0          AK      equipment failure          273530   \n",
       "\n",
       "4     TOTAL.PRICE  TOTAL.SALES PC.REALGSP.STATE TOTAL.REALGSP AREAPCT_URBAN  \n",
       "0            9.28    6562520.0            51268        274182          2.14  \n",
       "1            9.28    5284231.0            53499        291955          2.14  \n",
       "2            8.15    5222116.0            50447        267895          2.14  \n",
       "3            9.19    5787064.0            51598        277627          2.14  \n",
       "4           10.43    5970339.0            54431        292023          2.14  \n",
       "...           ...          ...              ...           ...           ...  \n",
       "1529         7.56    1313678.0            57012         39067          0.27  \n",
       "1530        11.08    7583977.0            42913         27868          0.27  \n",
       "1531         7.67     924051.0            45230         36504           0.3  \n",
       "1532         7.67     924051.0            45230         36504           0.3  \n",
       "1533         8.87   10846247.0            57401         36046          0.05  \n",
       "\n",
       "[1534 rows x 9 columns]"
      ]
     },
     "execution_count": 48,
     "metadata": {},
     "output_type": "execute_result"
    }
   ],
   "source": [
    "subset"
   ]
  },
  {
   "cell_type": "code",
   "execution_count": 50,
   "metadata": {
    "scrolled": true
   },
   "outputs": [
    {
     "data": {
      "text/plain": [
       "884        0.0\n",
       "91      4590.0\n",
       "829      989.0\n",
       "1476      75.0\n",
       "488     2520.0\n",
       "         ...  \n",
       "795     7020.0\n",
       "1042    4320.0\n",
       "450      255.0\n",
       "1146    4890.0\n",
       "1          1.0\n",
       "Name: OUTAGE.DURATION, Length: 384, dtype: float64"
      ]
     },
     "execution_count": 50,
     "metadata": {},
     "output_type": "execute_result"
    }
   ],
   "source": [
    "y_test"
   ]
  },
  {
   "cell_type": "code",
   "execution_count": 73,
   "metadata": {
    "scrolled": true
   },
   "outputs": [
    {
     "data": {
      "text/plain": [
       "0.10904147829891697"
      ]
     },
     "execution_count": 73,
     "metadata": {},
     "output_type": "execute_result"
    }
   ],
   "source": [
    "\n",
    "r2_score(y_test, pred)"
   ]
  },
  {
   "cell_type": "markdown",
   "metadata": {},
   "source": [
    "# Trying to classify cause of hurricane"
   ]
  },
  {
   "cell_type": "code",
   "execution_count": 152,
   "metadata": {
    "scrolled": true
   },
   "outputs": [],
   "source": [
    "subset = data[['CAUSE.CATEGORY', 'OUTAGE.DURATION','POSTAL.CODE', 'TOTAL.CUSTOMERS', 'MONTH', 'PC.REALGSP.STATE', 'UTIL.CONTRI', 'AREAPCT_URBAN', 'ANOMALY.LEVEL', 'CLIMATE.REGION','TOTAL.SALES']]"
   ]
  },
  {
   "cell_type": "code",
   "execution_count": 20,
   "metadata": {},
   "outputs": [
    {
     "data": {
      "text/plain": [
       "1534"
      ]
     },
     "execution_count": 20,
     "metadata": {},
     "output_type": "execute_result"
    }
   ],
   "source": [
    "len(data)"
   ]
  },
  {
   "cell_type": "code",
   "execution_count": 157,
   "metadata": {
    "scrolled": true
   },
   "outputs": [
    {
     "data": {
      "text/plain": [
       "4\n",
       "CAUSE.CATEGORY      0\n",
       "OUTAGE.DURATION     0\n",
       "POSTAL.CODE         0\n",
       "TOTAL.CUSTOMERS     0\n",
       "MONTH               0\n",
       "PC.REALGSP.STATE    0\n",
       "UTIL.CONTRI         0\n",
       "AREAPCT_URBAN       0\n",
       "ANOMALY.LEVEL       0\n",
       "CLIMATE.REGION      0\n",
       "TOTAL.SALES         0\n",
       "dtype: int64"
      ]
     },
     "execution_count": 157,
     "metadata": {},
     "output_type": "execute_result"
    }
   ],
   "source": [
    "subset.isnull().sum()"
   ]
  },
  {
   "cell_type": "code",
   "execution_count": 154,
   "metadata": {},
   "outputs": [],
   "source": [
    "#filling null values of numeric variables with probabilistic imputation\n",
    "columns_with_nulls = ['OUTAGE.DURATION', 'ANOMALY.LEVEL', 'TOTAL.SALES']\n",
    "\n",
    "for col in columns_with_nulls:\n",
    "    num_null = subset[col].isnull().sum()\n",
    "    fills = subset[col].dropna().sample(num_null, replace = True)\n",
    "    fills.index = subset.loc[subset[col].isnull()].index\n",
    "    subset = subset.fillna({col:fills.to_dict()})\n",
    "\n"
   ]
  },
  {
   "cell_type": "code",
   "execution_count": 156,
   "metadata": {},
   "outputs": [],
   "source": [
    "#dropping rows with null values in categorical variables\n",
    "subset = subset.dropna()"
   ]
  },
  {
   "cell_type": "code",
   "execution_count": 22,
   "metadata": {},
   "outputs": [
    {
     "data": {
      "text/html": [
       "<div>\n",
       "<style scoped>\n",
       "    .dataframe tbody tr th:only-of-type {\n",
       "        vertical-align: middle;\n",
       "    }\n",
       "\n",
       "    .dataframe tbody tr th {\n",
       "        vertical-align: top;\n",
       "    }\n",
       "\n",
       "    .dataframe thead th {\n",
       "        text-align: right;\n",
       "    }\n",
       "</style>\n",
       "<table border=\"1\" class=\"dataframe\">\n",
       "  <thead>\n",
       "    <tr style=\"text-align: right;\">\n",
       "      <th>4</th>\n",
       "      <th>CAUSE.CATEGORY</th>\n",
       "      <th>OUTAGE.DURATION</th>\n",
       "      <th>POSTAL.CODE</th>\n",
       "      <th>TOTAL.CUSTOMERS</th>\n",
       "      <th>MONTH</th>\n",
       "      <th>PC.REALGSP.STATE</th>\n",
       "      <th>UTIL.CONTRI</th>\n",
       "      <th>AREAPCT_URBAN</th>\n",
       "      <th>ANOMALY.LEVEL</th>\n",
       "      <th>CLIMATE.REGION</th>\n",
       "      <th>TOTAL.SALES</th>\n",
       "    </tr>\n",
       "  </thead>\n",
       "  <tbody>\n",
       "    <tr>\n",
       "      <th>0</th>\n",
       "      <td>severe weather</td>\n",
       "      <td>3060.0</td>\n",
       "      <td>MN</td>\n",
       "      <td>2595696</td>\n",
       "      <td>7</td>\n",
       "      <td>51268</td>\n",
       "      <td>1.75139</td>\n",
       "      <td>2.14</td>\n",
       "      <td>-0.3</td>\n",
       "      <td>East North Central</td>\n",
       "      <td>6562520.0</td>\n",
       "    </tr>\n",
       "    <tr>\n",
       "      <th>1</th>\n",
       "      <td>intentional attack</td>\n",
       "      <td>1.0</td>\n",
       "      <td>MN</td>\n",
       "      <td>2640737</td>\n",
       "      <td>5</td>\n",
       "      <td>53499</td>\n",
       "      <td>1.79</td>\n",
       "      <td>2.14</td>\n",
       "      <td>-0.1</td>\n",
       "      <td>East North Central</td>\n",
       "      <td>5284231.0</td>\n",
       "    </tr>\n",
       "    <tr>\n",
       "      <th>2</th>\n",
       "      <td>severe weather</td>\n",
       "      <td>3000.0</td>\n",
       "      <td>MN</td>\n",
       "      <td>2586905</td>\n",
       "      <td>10</td>\n",
       "      <td>50447</td>\n",
       "      <td>1.70627</td>\n",
       "      <td>2.14</td>\n",
       "      <td>-1.5</td>\n",
       "      <td>East North Central</td>\n",
       "      <td>5222116.0</td>\n",
       "    </tr>\n",
       "    <tr>\n",
       "      <th>3</th>\n",
       "      <td>severe weather</td>\n",
       "      <td>2550.0</td>\n",
       "      <td>MN</td>\n",
       "      <td>2606813</td>\n",
       "      <td>6</td>\n",
       "      <td>51598</td>\n",
       "      <td>1.93209</td>\n",
       "      <td>2.14</td>\n",
       "      <td>-0.1</td>\n",
       "      <td>East North Central</td>\n",
       "      <td>5787064.0</td>\n",
       "    </tr>\n",
       "    <tr>\n",
       "      <th>4</th>\n",
       "      <td>severe weather</td>\n",
       "      <td>1740.0</td>\n",
       "      <td>MN</td>\n",
       "      <td>2673531</td>\n",
       "      <td>7</td>\n",
       "      <td>54431</td>\n",
       "      <td>1.6687</td>\n",
       "      <td>2.14</td>\n",
       "      <td>1.2</td>\n",
       "      <td>East North Central</td>\n",
       "      <td>5970339.0</td>\n",
       "    </tr>\n",
       "    <tr>\n",
       "      <th>...</th>\n",
       "      <td>...</td>\n",
       "      <td>...</td>\n",
       "      <td>...</td>\n",
       "      <td>...</td>\n",
       "      <td>...</td>\n",
       "      <td>...</td>\n",
       "      <td>...</td>\n",
       "      <td>...</td>\n",
       "      <td>...</td>\n",
       "      <td>...</td>\n",
       "      <td>...</td>\n",
       "    </tr>\n",
       "    <tr>\n",
       "      <th>1527</th>\n",
       "      <td>intentional attack</td>\n",
       "      <td>3600.0</td>\n",
       "      <td>ID</td>\n",
       "      <td>849763</td>\n",
       "      <td>3</td>\n",
       "      <td>36256</td>\n",
       "      <td>1.57607</td>\n",
       "      <td>0.6</td>\n",
       "      <td>1.6</td>\n",
       "      <td>Northwest</td>\n",
       "      <td>1657605.0</td>\n",
       "    </tr>\n",
       "    <tr>\n",
       "      <th>1528</th>\n",
       "      <td>system operability disruption</td>\n",
       "      <td>220.0</td>\n",
       "      <td>ID</td>\n",
       "      <td>849763</td>\n",
       "      <td>7</td>\n",
       "      <td>36256</td>\n",
       "      <td>1.57607</td>\n",
       "      <td>0.6</td>\n",
       "      <td>-0.3</td>\n",
       "      <td>Northwest</td>\n",
       "      <td>447034.0</td>\n",
       "    </tr>\n",
       "    <tr>\n",
       "      <th>1529</th>\n",
       "      <td>public appeal</td>\n",
       "      <td>720.0</td>\n",
       "      <td>ND</td>\n",
       "      <td>394394</td>\n",
       "      <td>12</td>\n",
       "      <td>57012</td>\n",
       "      <td>2.39076</td>\n",
       "      <td>0.27</td>\n",
       "      <td>-0.9</td>\n",
       "      <td>West North Central</td>\n",
       "      <td>1313678.0</td>\n",
       "    </tr>\n",
       "    <tr>\n",
       "      <th>1531</th>\n",
       "      <td>islanding</td>\n",
       "      <td>59.0</td>\n",
       "      <td>SD</td>\n",
       "      <td>436229</td>\n",
       "      <td>8</td>\n",
       "      <td>45230</td>\n",
       "      <td>1.66009</td>\n",
       "      <td>0.3</td>\n",
       "      <td>0.5</td>\n",
       "      <td>West North Central</td>\n",
       "      <td>924051.0</td>\n",
       "    </tr>\n",
       "    <tr>\n",
       "      <th>1532</th>\n",
       "      <td>islanding</td>\n",
       "      <td>181.0</td>\n",
       "      <td>SD</td>\n",
       "      <td>436229</td>\n",
       "      <td>8</td>\n",
       "      <td>45230</td>\n",
       "      <td>1.66009</td>\n",
       "      <td>0.3</td>\n",
       "      <td>0.5</td>\n",
       "      <td>West North Central</td>\n",
       "      <td>924051.0</td>\n",
       "    </tr>\n",
       "  </tbody>\n",
       "</table>\n",
       "<p>1520 rows × 11 columns</p>\n",
       "</div>"
      ],
      "text/plain": [
       "4                    CAUSE.CATEGORY  OUTAGE.DURATION POSTAL.CODE  \\\n",
       "0                    severe weather           3060.0          MN   \n",
       "1                intentional attack              1.0          MN   \n",
       "2                    severe weather           3000.0          MN   \n",
       "3                    severe weather           2550.0          MN   \n",
       "4                    severe weather           1740.0          MN   \n",
       "...                             ...              ...         ...   \n",
       "1527             intentional attack           3600.0          ID   \n",
       "1528  system operability disruption            220.0          ID   \n",
       "1529                  public appeal            720.0          ND   \n",
       "1531                      islanding             59.0          SD   \n",
       "1532                      islanding            181.0          SD   \n",
       "\n",
       "4    TOTAL.CUSTOMERS MONTH PC.REALGSP.STATE UTIL.CONTRI AREAPCT_URBAN  \\\n",
       "0            2595696     7            51268     1.75139          2.14   \n",
       "1            2640737     5            53499        1.79          2.14   \n",
       "2            2586905    10            50447     1.70627          2.14   \n",
       "3            2606813     6            51598     1.93209          2.14   \n",
       "4            2673531     7            54431      1.6687          2.14   \n",
       "...              ...   ...              ...         ...           ...   \n",
       "1527          849763     3            36256     1.57607           0.6   \n",
       "1528          849763     7            36256     1.57607           0.6   \n",
       "1529          394394    12            57012     2.39076          0.27   \n",
       "1531          436229     8            45230     1.66009           0.3   \n",
       "1532          436229     8            45230     1.66009           0.3   \n",
       "\n",
       "4     ANOMALY.LEVEL      CLIMATE.REGION  TOTAL.SALES  \n",
       "0              -0.3  East North Central    6562520.0  \n",
       "1              -0.1  East North Central    5284231.0  \n",
       "2              -1.5  East North Central    5222116.0  \n",
       "3              -0.1  East North Central    5787064.0  \n",
       "4               1.2  East North Central    5970339.0  \n",
       "...             ...                 ...          ...  \n",
       "1527            1.6           Northwest    1657605.0  \n",
       "1528           -0.3           Northwest     447034.0  \n",
       "1529           -0.9  West North Central    1313678.0  \n",
       "1531            0.5  West North Central     924051.0  \n",
       "1532            0.5  West North Central     924051.0  \n",
       "\n",
       "[1520 rows x 11 columns]"
      ]
     },
     "execution_count": 22,
     "metadata": {},
     "output_type": "execute_result"
    }
   ],
   "source": [
    "subset"
   ]
  },
  {
   "cell_type": "code",
   "execution_count": 158,
   "metadata": {},
   "outputs": [],
   "source": [
    "ct = ColumnTransformer(\n",
    "    [\n",
    "        ('ohe', OneHotEncoder(handle_unknown = 'ignore'), ['POSTAL.CODE', 'CLIMATE.REGION']),\n",
    "    ])\n",
    "pl = Pipeline(steps = [\n",
    "            ('columntrans', ct),\n",
    "            ('knn',  KNeighborsClassifier(n_neighbors = 5))\n",
    "            ])"
   ]
  },
  {
   "cell_type": "code",
   "execution_count": 164,
   "metadata": {},
   "outputs": [],
   "source": [
    "#finding average average accuracy\n",
    "\n",
    "accuracies = []\n",
    "for i in range(100):\n",
    "    y = subset['CAUSE.CATEGORY']\n",
    "    x = subset.drop('CAUSE.CATEGORY', axis=1)\n",
    "    x_train, x_test, y_train, y_test = train_test_split(x, y)\n",
    "    pl.fit(x_train, y_train)\n",
    "    accuracies.append(accuracy_score(y_test, pl.predict(x_test)))"
   ]
  },
  {
   "cell_type": "code",
   "execution_count": 160,
   "metadata": {
    "scrolled": true
   },
   "outputs": [
    {
     "data": {
      "text/plain": [
       "0.544078947368421"
      ]
     },
     "execution_count": 160,
     "metadata": {},
     "output_type": "execute_result"
    }
   ],
   "source": [
    "pd.Series(accuracies).mean()"
   ]
  },
  {
   "cell_type": "markdown",
   "metadata": {},
   "source": [
    "Is this good? Let's compare it to the accuracy from randomly guessing"
   ]
  },
  {
   "cell_type": "code",
   "execution_count": 165,
   "metadata": {},
   "outputs": [],
   "source": [
    "y = subset['CAUSE.CATEGORY']\n",
    "x = subset.drop('CAUSE.CATEGORY', axis=1)\n",
    "x_train, x_test, y_train, y_test = train_test_split(x, y)"
   ]
  },
  {
   "cell_type": "code",
   "execution_count": 173,
   "metadata": {},
   "outputs": [
    {
     "data": {
      "text/plain": [
       "380.0"
      ]
     },
     "execution_count": 173,
     "metadata": {},
     "output_type": "execute_result"
    }
   ],
   "source": [
    "0.25*len(subset)\n"
   ]
  },
  {
   "cell_type": "code",
   "execution_count": 179,
   "metadata": {},
   "outputs": [],
   "source": [
    "accuracies = []\n",
    "for i in range(100):\n",
    "    #The 0.25 is because train_test_split uses 0.25 of the data for testing as default\n",
    "    guesses = subset['CAUSE.CATEGORY'].sample(n = int(0.25*len(subset)), replace = True)\n",
    "    \n",
    "    y = subset['CAUSE.CATEGORY']\n",
    "    x = subset.drop('CAUSE.CATEGORY', axis=1)\n",
    "    x_train, x_test, y_train, y_test = train_test_split(x, y)\n",
    "    accuracies.append(accuracy_score(y_test, guesses))"
   ]
  },
  {
   "cell_type": "code",
   "execution_count": 180,
   "metadata": {
    "scrolled": true
   },
   "outputs": [
    {
     "data": {
      "text/plain": [
       "0.33463157894736834"
      ]
     },
     "execution_count": 180,
     "metadata": {},
     "output_type": "execute_result"
    }
   ],
   "source": [
    "pd.Series(accuracies).mean()"
   ]
  },
  {
   "cell_type": "markdown",
   "metadata": {},
   "source": [
    "looks like its better than randomly guessing!"
   ]
  },
  {
   "cell_type": "markdown",
   "metadata": {},
   "source": [
    "### Final Model"
   ]
  },
  {
   "cell_type": "markdown",
   "metadata": {},
   "source": [
    "First, let's determine the optimal number of neighbors to classify on. In the baseline model we only used 5."
   ]
  },
  {
   "cell_type": "code",
   "execution_count": 103,
   "metadata": {},
   "outputs": [],
   "source": [
    "y = subset['CAUSE.CATEGORY']\n",
    "x = subset.drop('CAUSE.CATEGORY', axis=1)\n",
    "x_train, x_test, y_train, y_test = train_test_split(x, y)"
   ]
  },
  {
   "cell_type": "code",
   "execution_count": 122,
   "metadata": {},
   "outputs": [],
   "source": [
    "parameters = {\n",
    "    'knn__n_neighbors': [i for i in range(1,51)]\n",
    "}"
   ]
  },
  {
   "cell_type": "code",
   "execution_count": 123,
   "metadata": {},
   "outputs": [],
   "source": [
    "ct = ColumnTransformer(\n",
    "    [\n",
    "        ('ohe', OneHotEncoder(handle_unknown = 'ignore'), ['POSTAL.CODE', 'CLIMATE.REGION']),\n",
    "    ])\n",
    "pl = Pipeline(steps = [\n",
    "            ('columntrans', ct),\n",
    "            ('knn',  KNeighborsClassifier())\n",
    "            ])"
   ]
  },
  {
   "cell_type": "code",
   "execution_count": 124,
   "metadata": {
    "scrolled": true
   },
   "outputs": [],
   "source": [
    "clf = GridSearchCV(pl, parameters, cv = 5)"
   ]
  },
  {
   "cell_type": "code",
   "execution_count": 125,
   "metadata": {},
   "outputs": [
    {
     "name": "stderr",
     "output_type": "stream",
     "text": [
      "C:\\Users\\ianma\\Downloads\\anaconda\\lib\\site-packages\\sklearn\\model_selection\\_search.py:841: DeprecationWarning: The default of the `iid` parameter will change from True to False in version 0.22 and will be removed in 0.24. This will change numeric results when test-set sizes are unequal.\n",
      "  DeprecationWarning)\n"
     ]
    },
    {
     "data": {
      "text/plain": [
       "GridSearchCV(cv=5, error_score='raise-deprecating',\n",
       "       estimator=Pipeline(memory=None,\n",
       "     steps=[('columntrans', ColumnTransformer(n_jobs=None, remainder='drop', sparse_threshold=0.3,\n",
       "         transformer_weights=None,\n",
       "         transformers=[('ohe', OneHotEncoder(categorical_features=None, categories=None,\n",
       "       dtype=<class 'numpy.float64'>, handle_unknown='ignore',\n",
       "       n_values=Non...ki',\n",
       "           metric_params=None, n_jobs=None, n_neighbors=5, p=2,\n",
       "           weights='uniform'))]),\n",
       "       fit_params=None, iid='warn', n_jobs=None,\n",
       "       param_grid={'knn__n_neighbors': [1, 2, 3, 4, 5, 6, 7, 8, 9, 10, 11, 12, 13, 14, 15, 16, 17, 18, 19, 20, 21, 22, 23, 24, 25, 26, 27, 28, 29, 30, 31, 32, 33, 34, 35, 36, 37, 38, 39, 40, 41, 42, 43, 44, 45, 46, 47, 48, 49, 50]},\n",
       "       pre_dispatch='2*n_jobs', refit=True, return_train_score='warn',\n",
       "       scoring=None, verbose=0)"
      ]
     },
     "execution_count": 125,
     "metadata": {},
     "output_type": "execute_result"
    }
   ],
   "source": [
    "clf.fit(x_train, y_train)"
   ]
  },
  {
   "cell_type": "code",
   "execution_count": 130,
   "metadata": {
    "scrolled": true
   },
   "outputs": [
    {
     "data": {
      "text/plain": [
       "38"
      ]
     },
     "execution_count": 130,
     "metadata": {},
     "output_type": "execute_result"
    }
   ],
   "source": [
    "best_k = clf.best_params_['knn__n_neighbors']"
   ]
  },
  {
   "cell_type": "code",
   "execution_count": null,
   "metadata": {},
   "outputs": [],
   "source": [
    "#scale anomoly level by climate region\n",
    "#month is nominal so we should change that to string and do OHE\n",
    "#maybe remove outliers"
   ]
  },
  {
   "cell_type": "code",
   "execution_count": 131,
   "metadata": {},
   "outputs": [],
   "source": [
    "\n",
    "\n",
    "class StdScalerByGroup(BaseEstimator, TransformerMixin):\n",
    "    \n",
    "    def __init__(self):\n",
    "        pass\n",
    "\n",
    "    def fit(self, X, y=None):\n",
    "        # X may not be a pandas dataframe (e.g. a np.array)\n",
    "        df = pd.DataFrame(X)\n",
    "        \n",
    "        # A dictionary of means/standard-deviations for each column, for each group.\n",
    "        \n",
    "        #use X.columns[0] since groups are always in first column\n",
    "        agg = df.groupby(X.columns[0]).agg(['mean', 'std'])\n",
    "\n",
    "        self.grps_ = agg.to_dict()\n",
    "\n",
    "        return self\n",
    "\n",
    "    def transform(self, X, y=None):\n",
    "\n",
    "        try:\n",
    "            getattr(self, \"grps_\")\n",
    "        except AttributeError:\n",
    "            raise RuntimeError(\"You must fit the transformer before tranforming the data!\")\n",
    "        \n",
    "\n",
    "        # Define a helper function here?\n",
    "        def z_helper(series):\n",
    "            #we need column name and group. How to access?\n",
    "            #to get the group name use series.name\n",
    "            group_name = series.name\n",
    "            series = series.set_index(series.columns[0])\n",
    "            def standardize(col):\n",
    "                mean = self.grps_[(col.name, 'mean')][group_name]\n",
    "                std = self.grps_[(col.name, 'std')][group_name]\n",
    "                standardized = (col - mean) / std\n",
    "                return standardized\n",
    "\n",
    "            return series.apply(standardize)\n",
    "            \n",
    "        \n",
    "        # X may not be a dataframe (e.g. np.array)\n",
    "\n",
    "        df = pd.DataFrame(X)\n",
    "        \n",
    "        return df.groupby(df.columns[0]).apply(z_helper)\n",
    "        "
   ]
  },
  {
   "cell_type": "code",
   "execution_count": 151,
   "metadata": {},
   "outputs": [],
   "source": [
    "def to_string(x):\n",
    "        return pd.DataFrame(x).astype(str)\n",
    "num_to_str = FunctionTransformer(func = to_string, validate=False)\n",
    "\n",
    "month_trans = Pipeline(steps = [\n",
    "            ('to_string', num_to_str),\n",
    "            #added categories='auto' to silence warning message\n",
    "            #handle_unknown incase there are unseen values in the test set\n",
    "            ('ohe', OneHotEncoder(handle_unknown = 'ignore', categories='auto'))\n",
    "            ])\n",
    "\n",
    "ct = ColumnTransformer(\n",
    "    [\n",
    "        ('ohe', OneHotEncoder(handle_unknown = 'ignore', categories='auto'), ['POSTAL.CODE', 'CLIMATE.REGION']),\n",
    "        ('std', StdScalerByGroup(), ['CLIMATE.REGION','ANOMALY.LEVEL']),\n",
    "        ('month_trans', month_trans, ['MONTH'])\n",
    "        \n",
    "    ])\n",
    "pl = Pipeline(steps = [\n",
    "            ('columntrans', ct),\n",
    "            ('knn',  KNeighborsClassifier(n_neighbors = best_k))\n",
    "            ])"
   ]
  },
  {
   "cell_type": "code",
   "execution_count": 150,
   "metadata": {},
   "outputs": [],
   "source": [
    "#finding average average accuracy\n",
    "\n",
    "accuracies = []\n",
    "for i in range(100):\n",
    "    y = subset['CAUSE.CATEGORY']\n",
    "    x = subset.drop('CAUSE.CATEGORY', axis=1)\n",
    "    x_train, x_test, y_train, y_test = train_test_split(x, y)\n",
    "    pl.fit(x_train, y_train)\n",
    "    accuracies.append(accuracy_score(y_test, pl.predict(x_test)))"
   ]
  },
  {
   "cell_type": "code",
   "execution_count": 148,
   "metadata": {
    "scrolled": true
   },
   "outputs": [
    {
     "data": {
      "text/plain": [
       "0.5944473684210523"
      ]
     },
     "execution_count": 148,
     "metadata": {},
     "output_type": "execute_result"
    }
   ],
   "source": [
    "pd.Series(accuracies).mean()"
   ]
  },
  {
   "cell_type": "markdown",
   "metadata": {},
   "source": [
    "### Fairness Evaluation"
   ]
  },
  {
   "cell_type": "code",
   "execution_count": null,
   "metadata": {},
   "outputs": [],
   "source": [
    "# TODO"
   ]
  }
 ],
 "metadata": {
  "kernelspec": {
   "display_name": "Python 3",
   "language": "python",
   "name": "python3"
  },
  "language_info": {
   "codemirror_mode": {
    "name": "ipython",
    "version": 3
   },
   "file_extension": ".py",
   "mimetype": "text/x-python",
   "name": "python",
   "nbconvert_exporter": "python",
   "pygments_lexer": "ipython3",
   "version": "3.7.3"
  }
 },
 "nbformat": 4,
 "nbformat_minor": 2
}
